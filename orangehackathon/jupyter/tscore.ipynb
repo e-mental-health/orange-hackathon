{
 "cells": [
  {
   "cell_type": "markdown",
   "metadata": {},
   "source": [
    "# T-score"
   ]
  },
  {
   "cell_type": "markdown",
   "metadata": {},
   "source": [
    "This notebook contains a pipeline for comparing the vocabulary of two sets of Tactus emails with eachother by the t-score. The goal is to find tokens which appear more frequently in one set than in the other, and vice versa. This notebook uses much of the preprocessing of the notebook liwc.py in this directory. "
   ]
  },
  {
   "cell_type": "markdown",
   "metadata": {},
   "source": [
    "The first code block specifies the required libraries. This includes some general Python libraries and some specific libraries developed in our research project. These project-specific libraries can be found in the folder orangehackathon/libs"
   ]
  },
  {
   "cell_type": "code",
   "execution_count": 1,
   "metadata": {},
   "outputs": [],
   "source": [
    "import csv\n",
    "import re\n",
    "import sys\n",
    "import time\n",
    "from IPython.display import clear_output\n",
    "\n",
    "sys.path.append(\"../libs/\")\n",
    "import tactusloaderLIB\n",
    "import OWEmailSorterLIB\n",
    "import markduplicatesLIB\n",
    "import removemarkedtextLIB\n",
    "import LIWCLIB"
   ]
  },
  {
   "cell_type": "markdown",
   "metadata": {},
   "source": [
    "The next code block specifies the location of the therapy files"
   ]
  },
  {
   "cell_type": "code",
   "execution_count": 2,
   "metadata": {},
   "outputs": [],
   "source": [
    "DIRECTORY = \"/home/erikt/projects/e-mental-health/usb/releases/20200320\""
   ]
  },
  {
   "cell_type": "markdown",
   "metadata": {},
   "source": [
    "The therapy files are read with the Orange3 pipeline. The Orange3 pipeline contains these parts:\n",
    "\n",
    "1. tactusloader: determine file name and read its contents\n",
    "2. sortMails: sort the mails from the file chronologically\n",
    "3. markduplicates: mark the parts of the mail text included from an earlier mail\n",
    "4. removemarkedtext: remove the marked text from the mail\n",
    "5. LIWC: analyse the text with LIWC\n",
    "\n",
    "The file loading takes several minutes. The program counts from 1 to the number of files to indicate its progress."
   ]
  },
  {
   "cell_type": "code",
   "execution_count": 3,
   "metadata": {},
   "outputs": [
    {
     "name": "stdout",
     "output_type": "stream",
     "text": [
      "processing: 1987\n",
      "Found empty or nonexistant files: ['AdB0538-an.xml', 'AdB1263-an.xml', 'AdB1469-an.xml', 'AdB1630-an.xml', 'AdB1826-an.xml']\n"
     ]
    }
   ],
   "source": [
    "MAXCLIENT = 1987\n",
    "\n",
    "def readTactusData(maxClient):\n",
    "    allLiwcResults = {}\n",
    "    allMails = {}\n",
    "    emptyFiles = []\n",
    "    problemFiles = []\n",
    "    for patientId in range(1,maxClient+1):\n",
    "        clear_output(wait=True)\n",
    "        print(\"processing:\",patientId)\n",
    "        fileName = tactusloaderLIB.makeFileName(str(patientId))\n",
    "        fileNameId = re.sub(\"-an.xml$\",\"\",fileName)\n",
    "        try:\n",
    "            mails = tactusloaderLIB.processFile(DIRECTORY,fileName+\".gz\")\n",
    "            if len(mails[0]) > 0:\n",
    "                sortedMails = OWEmailSorterLIB.filterEmails(mails[0],filter_asc=True)\n",
    "                markedMails = markduplicatesLIB.processCorpus(sortedMails)\n",
    "                strippedMails = removemarkedtextLIB.processCorpus(markedMails)\n",
    "                liwcResults = LIWCLIB.processCorpus(strippedMails)\n",
    "                allLiwcResults[fileNameId] = liwcResults\n",
    "                allMails[fileNameId] = strippedMails\n",
    "            else: emptyFiles.append(fileName)\n",
    "        except:\n",
    "            problemFiles.append(fileName)\n",
    "            continue\n",
    "    if len(emptyFiles) > 0:\n",
    "        print(\"Found empty or nonexistant files:\",emptyFiles)\n",
    "    if len(problemFiles) > 0:\n",
    "        print(\"There were problems processing these files:\",problemFiles)\n",
    "    return(allLiwcResults,allMails)\n",
    "\n",
    "allLiwcResults,allMails = readTactusData(MAXCLIENT)"
   ]
  },
  {
   "cell_type": "code",
   "execution_count": 4,
   "metadata": {},
   "outputs": [
    {
     "data": {
      "text/plain": [
       "1982"
      ]
     },
     "execution_count": 4,
     "metadata": {},
     "output_type": "execute_result"
    }
   ],
   "source": [
    "len(allMails)"
   ]
  },
  {
   "cell_type": "markdown",
   "metadata": {},
   "source": [
    "We will comparethe texts in emails from clients that finished the treatment versus clients that dropped out. Thus we need the metadata which specifies the results of the therapy for each client."
   ]
  },
  {
   "cell_type": "code",
   "execution_count": 5,
   "metadata": {},
   "outputs": [
    {
     "data": {
      "text/plain": [
       "True"
      ]
     },
     "execution_count": 5,
     "metadata": {},
     "output_type": "execute_result"
    }
   ],
   "source": [
    "import gzip\n",
    "\n",
    "DIRDROPOUT = \"/home/erikt/projects/e-mental-health/usb/releases/20200305/\"\n",
    "FILEDROPOUT = \"selected.csv.gz\"\n",
    "DELIMITER = \",\"\n",
    "FIELDNAMEDROPOUT = \"dropout\"\n",
    "FIELDNAMETEXT = \"text\"\n",
    "FIELDNAMEFILE = \"file\"\n",
    "FIELDNAMEFROM = \"from\"\n",
    "CLIENT = \"CLIENT\"\n",
    "COUNSELOR = \"COUNSELOR\"\n",
    "NBROFCLIENTS = 791\n",
    "CODEDROPOUT = \"1\"\n",
    "CODEFINISHER = \"2\"\n",
    "\n",
    "dropout = {}\n",
    "inFile = gzip.open(DIRDROPOUT+FILEDROPOUT,\"rt\",encoding=\"utf-8\")\n",
    "csvreader = csv.DictReader(inFile,delimiter=DELIMITER)\n",
    "for row in csvreader: dropout[row[FIELDNAMEFILE]] = row[FIELDNAMEDROPOUT]\n",
    "inFile.close()\n",
    "\n",
    "len([x for x in dropout if dropout[x] != \"?\"]) == NBROFCLIENTS"
   ]
  },
  {
   "cell_type": "markdown",
   "metadata": {},
   "source": [
    "We will compare collections of texts with the t-score. First we will compute the t-scores of various text collections with a function `makeTscoreData`. After this we can compare these t-scores with the function `compareTscoreData`. We rely on the t-score script `/home/erikt/projects/newsgac/fasttext-runs/tscore.py` for making the comparisons. \n",
    "\n",
    "There are two ways for computing the t-scores: count every separate word used by a client or count each word used by a client only once. The texts can be prepared for the second type of counts with the function `removeDuplicateTokensTextArray` which removes all duplicate words from the texts (case-sensitive)."
   ]
  },
  {
   "cell_type": "code",
   "execution_count": 6,
   "metadata": {},
   "outputs": [],
   "source": [
    "NBROFTOKENS = \"totalFreq\"\n",
    "NBROFTYPES = \"nbrOfWords\"\n",
    "WORDFREQS = \"wordFreqs\"\n",
    "NBROFGROUPS = \"nbrOfGroups\"\n",
    "\n",
    "def normalizeMaxCount(tscoreData,fraction):\n",
    "    tscoreData[MAXCOUNT] = round(tscoreData[MAXCOUNT]*fraction,1)\n",
    "    for word in tscoreData[\"wordFreqs\"]:\n",
    "        tscoreData[\"wordFreqs\"][word] = round(tscoreData[\"wordFreqs\"][word]*fraction,1)\n",
    "    return(tscoreData)\n",
    "\n",
    "def removeEmptyMails(textArrayIn):    \n",
    "    return([text for text in textArrayIn if text != \"\"])\n",
    "\n",
    "def removeDuplicateTokensText(text):\n",
    "    seen = {}\n",
    "    for word in text.split():\n",
    "        if not word in seen: seen[word] = True\n",
    "    return(\" \".join(list(seen.keys())))\n",
    "\n",
    "def removeDuplicateTokensTextArray(textArrayIn):\n",
    "    textArrayOut = []\n",
    "    for text in textArrayIn:\n",
    "        textArrayOut.append(removeDuplicateTokens(text))\n",
    "    return(textArrayOut)\n",
    "\n",
    "def makeTscoreData(textArray):\n",
    "    data = { NBROFTOKENS:0, NBROFTYPES:0, NBROFGROUPS:len(textArray), WORDFREQS:{} }\n",
    "    for text in textArray:\n",
    "        for token in text.split():\n",
    "            data[NBROFTOKENS] += 1\n",
    "            if token in data[WORDFREQS]: \n",
    "                data[WORDFREQS][token] += 1\n",
    "            else:\n",
    "                data[WORDFREQS][token] = 1\n",
    "                data[NBROFTYPES] += 1\n",
    "    return(data)\n",
    "\n",
    "def makeTscoreDataBigrams(textArray):\n",
    "    data = { NBROFTOKENS:0, NBROFTYPES:0, NBROFGROUPS:len(textArray), WORDFREQS:{} }\n",
    "    for text in textArray:\n",
    "        tokens = text.split()\n",
    "        for i in range(1,len(tokens)):\n",
    "            bigram = tokens[i-1]+\" \"+tokens[i]\n",
    "            data[NBROFTOKENS] += 1\n",
    "            if bigram in data[WORDFREQS]: \n",
    "                data[WORDFREQS][bigram] += 1\n",
    "            else:\n",
    "                data[WORDFREQS][bigram] = 1\n",
    "                data[NBROFTYPES] += 1\n",
    "    return(data)"
   ]
  },
  {
   "cell_type": "code",
   "execution_count": 7,
   "metadata": {},
   "outputs": [],
   "source": [
    "sys.path.append(\"/home/erikt/projects/newsgac/fasttext-runs\")\n",
    "import tscore\n",
    "import operator\n",
    "from termcolor import colored\n",
    "# alternative: from IPython.display import Markdown; display(Markdown(\"htmlcode\"))\n",
    "\n",
    "HIGHLIGHTCOLOR = \"blue\"\n",
    "ADDEDSPACES = 9\n",
    "MAXSTRING = 20\n",
    "\n",
    "def fillAddedSpaces(tokenLen):\n",
    "    addedSpaces = \"\"\n",
    "    i = 0\n",
    "    while i < ADDEDSPACES and tokenLen+i-ADDEDSPACES < MAXSTRING:\n",
    "        addedSpaces += \" \"\n",
    "        i += 1\n",
    "    return(addedSpaces)\n",
    "\n",
    "def compareTscoreData(tscoreData1,tscoreData1reference,tscoreData2,tscoreData2reference,nbrOfShow,coloredWords=[]):\n",
    "    outFile = open(\"out.csv\",\"w\")\n",
    "    csvwriter = csv.DictWriter(outFile,[\"position\",\"token\",\"tscore\",\"freqDropouts\",\"freqFinishers\"])\n",
    "    csvwriter.writeheader()\n",
    "    tscores1 = tscore.computeTscore(tscoreData1,tscoreData1reference)\n",
    "    tscores2 = tscore.computeTscore(tscoreData2,tscoreData2reference)\n",
    "    tscores1sorted = sorted(tscores1.items(), key=operator.itemgetter(1),reverse=True)\n",
    "    tscores2sorted = sorted(tscores2.items(), key=operator.itemgetter(1),reverse=True)\n",
    "    combined = [ tscores1sorted[i]+tscores2sorted[i] for i in range(min(len(tscores1sorted),len(tscores2sorted))) ]\n",
    "    position = 0\n",
    "    for tuple in combined:\n",
    "        position += 1\n",
    "        (token1,token1Tscore,token2,token2Tscore) = tuple\n",
    "        if token1 in tscoreData1[WORDFREQS]: frequency11 = tscoreData1[WORDFREQS][token1]\n",
    "        else: frequency11 = 0\n",
    "        if token1 in tscoreData1reference[WORDFREQS]: frequency1r = tscoreData1reference[WORDFREQS][token1]\n",
    "        else: frequency1r = 0\n",
    "        if token2 in tscoreData2[WORDFREQS]: frequency22 = tscoreData2[WORDFREQS][token2]\n",
    "        else: frequency22 = 0\n",
    "        if token2 in tscoreData2reference[WORDFREQS]: frequency2r = tscoreData2reference[WORDFREQS][token2]\n",
    "        else: frequency2r = 0\n",
    "        csvwriter.writerow({\"position\":position,\"token\":token1,\"tscore\":token1Tscore,\\\n",
    "                            \"freqDropouts\":frequency11,\"freqFinishers\":frequency1r})\n",
    "        if position <= nbrOfShow:\n",
    "            token1AddedSpaces = \"\"\n",
    "            if token1 in coloredWords: \n",
    "                token1 = colored(token1,HIGHLIGHTCOLOR)\n",
    "                token1AddedSpaces = fillAddedSpaces(len(token1))\n",
    "            if token2 in coloredWords: token2 = colored(token2,HIGHLIGHTCOLOR)\n",
    "            print(\"{0:6d}. {2:5.1f} {3:7d} {4:7d} {1:<20s}{5:s} {0:6d}. {7:5.1f} {8:7d} {9:7d} {6:<20s}\".\\\n",
    "                  format(position,token1,round(token1Tscore,1),frequency11,frequency1r,token1AddedSpaces, \\\n",
    "                                  token2,round(token2Tscore,1),frequency22,frequency2r))\n",
    "    outFile.close()"
   ]
  },
  {
   "cell_type": "markdown",
   "metadata": {},
   "source": [
    "Now we choose the text collections that we want to compare. Here are the choices:\n",
    "\n",
    "1. all mails of all clients\n",
    "2. all mails of all counselors\n",
    "3. the final mail written by a counselor to a client that dropped out\n",
    "4. the final mail written to a counselor to a client that finished the therapy\n",
    "5. the first four mails of a client that dropped out\n",
    "6. the first four mails of a client that finished the therapy\n",
    "7. the long mails among the first four mails of a client that dropped out\n",
    "8. the long mails among the first four mails of a client that finished the therapy\n",
    "9. all mails of all clients that dropped out\n",
    "10. all mails of all clients that finished the therapy"
   ]
  },
  {
   "cell_type": "code",
   "execution_count": 8,
   "metadata": {},
   "outputs": [
    {
     "data": {
      "text/plain": [
       "(1115, 1982, 437, 354, 433, 354, 78, 114, 433, 354)"
      ]
     },
     "execution_count": 8,
     "metadata": {},
     "output_type": "execute_result"
    }
   ],
   "source": [
    "clientWithMails = [ clientId for clientId in allMails.keys() if len(allMails[clientId]) > 0 ][0]\n",
    "textFieldId = LIWCLIB.getFieldId(allMails[clientWithMails][0],FIELDNAMETEXT) \n",
    "\n",
    "def wordCount(text): return(len(text.split()))\n",
    "\n",
    "def selectMailsFrom(mails,sender):\n",
    "    return([ mail for mail in mails if mail[FIELDNAMEFROM] == sender ])\n",
    "\n",
    "def selectAllMailTextFrom(mails,sender):\n",
    "    return(\" \".join([ mail.metas[textFieldId] for mail in selectMailsFrom(mails,sender) ]))\n",
    "\n",
    "def selectLastNMailTextsFrom(mails,sender,n):\n",
    "    return(\" \".join([ mail.metas[textFieldId] for mail in selectMailsFrom(mails,sender) ][-n:]))\n",
    "\n",
    "def selectFirstNMailTextsFrom(mails,sender,n,cutoff=0):\n",
    "    firstNtexts = [ mail.metas[textFieldId] for mail in selectMailsFrom(mails,sender) ][0:n]\n",
    "    return(\" \".join([ text for text in firstNtexts if wordCount(text) >= cutoff ]))\n",
    "\n",
    "allMailsClients = [ selectAllMailTextFrom(allMails[thisId],CLIENT) for thisId in allMails ]\n",
    "allMailsCounselors = [ selectAllMailTextFrom(allMails[thisId],COUNSELOR) for thisId in allMails ]\n",
    "\n",
    "NBROFSELECTED = 1\n",
    "lastCounselorMails = { thisId:selectLastNMailTextsFrom(allMails[thisId],COUNSELOR,NBROFSELECTED) for thisId in allMails }\n",
    "lastCounselorMailsDropout = [ lastCounselorMails[clientId] for clientId in dropout if dropout[clientId] == CODEDROPOUT ]\n",
    "lastCounselorMailsFinisher = [ lastCounselorMails[clientId] for clientId in dropout if dropout[clientId] == CODEFINISHER ]\n",
    "\n",
    "NBROFSELECTED = 4\n",
    "firstFourClientMails = { thisId:selectFirstNMailTextsFrom(allMails[thisId],CLIENT,NBROFSELECTED) for thisId in allMails }\n",
    "firstFourClientMailsDropout = [ firstFourClientMails[clientId] for clientId in dropout if dropout[clientId] == CODEDROPOUT ]\n",
    "firstFourClientMailsFinisher = [ firstFourClientMails[clientId] for clientId in dropout if dropout[clientId] == CODEFINISHER ]\n",
    "\n",
    "CUTOFF = 1000\n",
    "NBROFSELECTED = 4\n",
    "firstFourClientMailsCutoff = { thisId:selectFirstNMailTextsFrom(allMails[thisId],CLIENT,NBROFSELECTED,cutoff=CUTOFF) for thisId in allMails }\n",
    "firstFourClientMailsCutoffDropout = [ firstFourClientMailsCutoff[clientId] for clientId in dropout if dropout[clientId] == CODEDROPOUT ]\n",
    "firstFourClientMailsCutoffFinisher = [ firstFourClientMailsCutoff[clientId] for clientId in dropout if dropout[clientId] == CODEFINISHER ]\n",
    "\n",
    "allMailsClientsDropout = [ selectAllMailTextFrom(allMails[clientId],CLIENT) for clientId in allMails if dropout[clientId] == CODEDROPOUT ]\n",
    "allMailsClientsFinisher = [ selectAllMailTextFrom(allMails[clientId],CLIENT) for clientId in allMails if dropout[clientId] == CODEFINISHER ]\n",
    "\n",
    "len(removeEmptyMails(allMailsClients)),len(removeEmptyMails(allMailsCounselors)),\\\n",
    "len(removeEmptyMails(lastCounselorMailsDropout)),len(removeEmptyMails(lastCounselorMailsFinisher)),\\\n",
    "len(removeEmptyMails(firstFourClientMailsDropout)),len(removeEmptyMails(firstFourClientMailsFinisher)),\\\n",
    "len(removeEmptyMails(firstFourClientMailsCutoffDropout)),len(removeEmptyMails(firstFourClientMailsCutoffFinisher)), \\\n",
    "len(removeEmptyMails(allMailsClientsDropout)),len(removeEmptyMails(allMailsClientsFinisher))"
   ]
  },
  {
   "cell_type": "markdown",
   "metadata": {},
   "source": [
    "There is a difference in the number of dropout sessions with counselor mails (437) and the number of dropout sessions with client mails (433). The reason for this is that there are four clients which contributed only a single empty mail to the session.  "
   ]
  },
  {
   "cell_type": "code",
   "execution_count": 9,
   "metadata": {},
   "outputs": [
    {
     "name": "stdout",
     "output_type": "stream",
     "text": [
      "AdB0286 1\n",
      "AdB0399 1\n",
      "AdB0417 1\n",
      "AdB0610 1\n"
     ]
    }
   ],
   "source": [
    "for thisId in allMails:\n",
    "    mailText = selectAllMailTextFrom(allMails[thisId],CLIENT)\n",
    "    if (dropout[thisId] == \"1\" or dropout[thisId] == \"2\") and len(mailText) == 0: print(thisId,dropout[thisId])"
   ]
  },
  {
   "cell_type": "markdown",
   "metadata": {},
   "source": [
    "Since we have selected different groups of text, we can use the t-score for comparing the word usage in our group with another. Note that the comparison results will be better for larger word groups. In general it does not makes sense to compare two small groups of texts because neither of the two will provide a good model of the language to compare the other with. In those cases it is better to compare a small text with a large text."
   ]
  },
  {
   "cell_type": "markdown",
   "metadata": {},
   "source": [
    "## Comparing all mail texts: dropouts vs finishers\n",
    "\n",
    "The two groups of all dropout mails and all finisher mails are large enough to compare with each other. However the results may not be very useful for two reasons. First, on average the finishers took part in the therapy for a longer time than the dropouts. So they participated more frequently in later assignments and the language used in these assignments will have an effect on the measurements. A second reasond reason for the results being less interesting is that we would like to detect likely dropouts as early as possible in the therapy, so we do not have the time to collect their responses during several weeks.  "
   ]
  },
  {
   "cell_type": "code",
   "execution_count": 10,
   "metadata": {},
   "outputs": [
    {
     "name": "stdout",
     "output_type": "stream",
     "text": [
      "counts: allMailsClientsDropout: 917757 tokens; 433 mails; allMailsClientsFinisher: 2495998 tokens; 354 mails\n",
      "     1.  26.2   14142   28707 NUM                       1.  13.1    1442     255 gedachten           \n",
      "     2.  13.8   10837   24838 mijn                      2.  11.4   11574    3467 weer                \n",
      "     3.  11.0    1732    3300 werk                      3.  11.4   53097   17836 het                 \n",
      "     4.  10.7    1671    3196 jaar                      4.  11.3     252      14 \u001b[34mpols\u001b[0m       \n",
      "     5.  10.6     657     972 --                        5.  11.2    4079    1058 mezelf              \n",
      "     6.  10.5     993    1688 ..                        6.  11.2     453      49 helpende            \n",
      "     7.  10.0     298     308 IK                        7.  11.1     262      16 \u001b[34mvinger\u001b[0m     \n",
      "     8.   9.9    1725    3410 drink                     8.  10.9   13781    4245 nog                 \n",
      "     9.   9.1     131      65 >                         9.  10.1     202      11 \u001b[34mactieplan\u001b[0m  \n",
      "    10.   8.7     422     614 \u001b[34mrelatie\u001b[0m                  10.  10.0    3725     990 En                  \n",
      "    11.   8.6     725    1262 \u001b[34mkinderen\u001b[0m                 11.   9.6    5824    1677 ``                  \n",
      "    12.   8.6    6461   15326 ben                      12.   9.4   22783    7463 ook                 \n",
      "    13.   8.5     584     962 \u001b[34mhuisarts\u001b[0m                 13.   8.8    1368     309 trek                \n",
      "    14.   8.5     314     408 hoogte                   14.   8.5    4392    1257 even                \n",
      "    15.   8.5     226     242 hobby                    15.   8.4   46650   15992 dat                 \n",
      "    16.   8.5    1535    3138 Mijn                     16.   8.1    4848    1421 toch                \n",
      "    17.   8.2     134      94 HET                      17.   8.1   20268    6703 wel                 \n",
      "    18.   8.0     112      64 DAT                      18.   7.9     357      52 alcoholvrij         \n",
      "    19.   8.0   49109  127191 .                        19.   7.5     445      76 forum               \n",
      "    20.   8.0     431     674 \u001b[34mpartner\u001b[0m                  20.   7.5     578     110 gedachte            \n",
      "    21.   7.7     626    1114 gebruik                  21.   7.0     675     142 Dank                \n",
      "    22.   7.7     135     111 k                        22.   6.9      53       0 \u001b[34mnameting\u001b[0m   \n",
      "    23.   7.6     381     587 nadelen                  23.   6.8     222      29 \u001b[34mtraject\u001b[0m    \n",
      "    24.   7.6     823    1561 stoppen                  24.   6.8    1347     342 denken              \n",
      "    25.   7.3     500     862 problemen                25.   6.6   79837   28218 ,                   \n",
      "    26.   7.2    4869   11595 )                        26.   6.5     397      73 herken              \n",
      "    27.   7.2      74      29 VAN                      27.   6.4    9566    3110 zo                  \n",
      "    28.   7.2     168     185 \u001b[34mex\u001b[0m                       28.   6.4      93       6 helpend             \n",
      "    29.   7.2     804    1557 vragen                   29.   6.4    4145    1261 Maar                \n",
      "    30.   6.9     102      78 DE                       30.   6.3   11442    3771 wat                 \n",
      "    31.   6.9     275     407 klachten                 31.   6.2    1165     297 \u001b[34mopdracht\u001b[0m   \n",
      "    32.   6.7     283     432 \u001b[34mouders\u001b[0m                   32.   6.2     185      24 ‘                   \n",
      "    33.   6.5      58      20 MIJN                     33.   6.1      43       0 klooster            \n",
      "    34.   6.5     538    1002 \u001b[34mvrienden\u001b[0m                 34.   6.1     117      11 uitglijder          \n",
      "    35.   6.4     838    1700 graag                    35.   6.0     180      24 etentje             \n",
      "    36.   6.4     106      99 EN                       36.   6.0     165      21 alc                 \n",
      "    37.   6.2     297     483 \u001b[34mcontacten\u001b[0m                37.   6.0    3932    1205 iets                \n",
      "    38.   6.1      68      42 IS                       38.   5.9      66       3 kerk                \n",
      "    39.   6.1     424     767 \u001b[34mvriendin\u001b[0m                 39.   5.9      50       1 trekmoment          \n",
      "    40.   6.1     437     798 sinds                    40.   5.9     159      20 pilsje              \n"
     ]
    }
   ],
   "source": [
    "NBROFSHOW = 40\n",
    "\n",
    "print(\"counts:\",\"allMailsClientsDropout:\",sum([wordCount(text) for text in allMailsClientsDropout]), \\\n",
    "                \"tokens;\",len(removeEmptyMails(allMailsClientsDropout)),\"mails;\", \\\n",
    "                \"allMailsClientsFinisher:\",sum([wordCount(text) for text in allMailsClientsFinisher]), \\\n",
    "                \"tokens;\",len(removeEmptyMails(allMailsClientsFinisher)),\"mails\" )\n",
    "tscoreData1 = makeTscoreData(removeEmptyMails(allMailsClientsDropout))\n",
    "tscoreData2 = makeTscoreData(removeEmptyMails(allMailsClientsFinisher))\n",
    "compareTscoreData(tscoreData1,tscoreData2,tscoreData2,tscoreData1,NBROFSHOW,\\\n",
    "                  coloredWords=[\"relatie\",\"kinderen\",\"huisarts\",\"partner\",\"ex\",\"ouders\",\"vrienden\",\"contacten\",\"vriendin\",\\\n",
    "                                \"pols\",\"vinger\",\"actieplan\",\"nameting\",\"traject\",\"opdracht\"])"
   ]
  },
  {
   "cell_type": "markdown",
   "metadata": {},
   "source": [
    "The fact that the finishers completed a larger part of the therapy is indeed reflected in their word usage, in particular by the therapy words *pols*, *vinger*, *actieplan*, *nameting*, *traject* and *opdracht*. The word *Dank* is also interesting here (displaying gratitude for a successful therapy?) as well as the two food-related diminuitives (*etentje* and *pilsje*: ability to relativate?). *gedachten*, *denken* and *herken* show the ability to reflect but may be invoked by later assignments. *trek* is an old-fashioned words correlated with the age of the client. The comma (*,*) was more used in this group (longer sentences?) while the periode (*.*) was more used by the dropouts (shorter sentences?).\n",
    "\n",
    "Interestingly, dropouts use more numbers (*NUM*) in their mails and more frequently refer to themselves (*mijn* and *Mijn*). The word *IK* is less interesting: it is an unusual spelling of a common word. There are seven more of these (*HET*, *DAT*, *VAN*, *DE*, *MIJN*, *EN* and *IS*) but they could be caused by a few clients writing all caps. There are many references to people and relations: *relatie*, *kinderen*, *huisarts*, *partner*, *ex*, *ouders*, *vrienden*, *contacten* and *vriendin*). *huisarts* could be used because of medical problems or extreme drinking behavior. While the finishers did not use negative words frequently, the dropouts did: *nadelen*, *problemen* and *klachten*. Two other interesting related words are *werk* and *hobby*, and there are also the three behavior-related words *drink*, *gebruik* and *stoppen*."
   ]
  },
  {
   "cell_type": "markdown",
   "metadata": {},
   "source": [
    "The next function `collocations()` can be used to lookup tokens in context in the mails. For example, we expected that the word *pols* was predominantly used in the context of the name of the Tactus treatment programme *Vinger aan de pols* rather than in the literal meaning (*wrist*). Searching forthe contexts of the token with the `collocations()` function confirmed this expectation."
   ]
  },
  {
   "cell_type": "code",
   "execution_count": 11,
   "metadata": {},
   "outputs": [
    {
     "name": "stdout",
     "output_type": "stream",
     "text": [
      "total: 24838\n",
      "112 . Ik heb mijn\n",
      "67 is slecht voor mijn\n",
      "59 de hoogte van mijn\n",
      "47 het overlijden van mijn\n",
      "34 te maken met mijn\n",
      "30 . Ik zal mijn\n",
      "30 de relatie met mijn\n"
     ]
    }
   ],
   "source": [
    "UNDEFINED = \"UNDEF\"\n",
    "NBROFTOKENSAFTER = 0\n",
    "NBROFTOKENSBEFORE = 3\n",
    "NBROFCOLLOCATIONS = 20\n",
    "\n",
    "def makeCollocation(tokens,i,nbrOfTokensBefore,nbrOfTokensAfter):\n",
    "    collocationList = [tokens[i]]\n",
    "    for j in range(i-1,i-nbrOfTokensBefore-1,-1):\n",
    "        if j >= 0: collocationList = [tokens[j]]+collocationList\n",
    "        else: collocationList = [UNDEFINED]+collocationList\n",
    "    for j in range(i+1,i+nbrOfTokensAfter+1):\n",
    "        if j < len(tokens): collocationList.append(tokens[j])\n",
    "        else: collocationList.append(UNDEFINED)\n",
    "    return(\" \".join(collocationList))\n",
    "            \n",
    "def addToCollocations(collocations,tokens,i,nbrOfTokensBefore,nbrOfTokensAfter):\n",
    "    collocation = makeCollocation(tokens,i,nbrOfTokensBefore,nbrOfTokensAfter)\n",
    "    if collocation in collocations: collocations[collocation] += 1\n",
    "    else: collocations[collocation] = 1\n",
    "        \n",
    "def collocations(texts,token,nbrOfTokensBefore=NBROFTOKENSBEFORE,nbrOfTokensAfter=NBROFTOKENSAFTER,nbrOfCollocations=NBROFCOLLOCATIONS):\n",
    "    collocations = {}\n",
    "    total = 0\n",
    "    for text in texts:\n",
    "        tokens = text.split()\n",
    "        for i in range(0,len(tokens)):\n",
    "            if tokens[i] == token:\n",
    "                total += 1\n",
    "                addToCollocations(collocations,tokens,i,nbrOfTokensBefore,nbrOfTokensAfter)\n",
    "    print(\"total:\",total)\n",
    "    for key,value in sorted(collocations.items(), key=lambda item: item[1],reverse=True)[0:nbrOfCollocations]:\n",
    "        print(value,key)\n",
    "        \n",
    "collocations(allMailsClientsFinisher,\"mijn\",nbrOfCollocations=7)"
   ]
  },
  {
   "cell_type": "markdown",
   "metadata": {},
   "source": [
    "## Comparing the final counselor mails: dropouts vs finishers\n",
    "\n",
    "We would like to know if it is possible to predict the result of the therapy (dropout vs finisher) based on the text of the final mail sent by the counselor. By themselves these mails do contain a lot of text so we compare them with all the mails of the counselors."
   ]
  },
  {
   "cell_type": "code",
   "execution_count": 12,
   "metadata": {},
   "outputs": [
    {
     "name": "stdout",
     "output_type": "stream",
     "text": [
      "counts: lastCounselorMailsDropout: 48929 tokens; 437 mails; lastCounselorMailsFinisher: 49138 tokens; 354 mails\n",
      "     1.  30.6    1061   18305 dossier                   1.  18.6    1659  251950 het                 \n",
      "     2.  20.9     788   56612 PER                       2.  15.3     352   18305 dossier             \n",
      "     3.  20.4     722   49154 nog                       3.  13.3     221    6484 wens                \n",
      "     4.  19.3     661   46846 kun                       4.  13.2     496   56612 PER                 \n",
      "     5.  18.5    1247  167372 in                        5.  12.8     402   40689 !                   \n",
      "     6.  18.4     360    3073 opnieuw                   6.  12.7     326   26874 Beste               \n",
      "     7.  18.2     387    8153 berichten                 7.  12.0     622   90435 Ik                  \n",
      "     8.  17.7     338    3362 MAIL                      8.  11.9     180    5655 ORG                 \n",
      "     9.  17.7     322    1085 archief                   9.  11.1     127     573 allerbeste          \n",
      "    10.  17.7     320    1252 team                     10.  11.0     146    3749 jaar                \n",
      "    11.  17.6     315     600 Vooralsnog               11.  10.9     141    3297 maanden             \n",
      "    12.  17.6     313     723 bel                      12.  10.9     133    2221 half                \n",
      "    13.  17.4     311    1006 geplaatst                13.  10.8     159    6294 \u001b[34minvullen\u001b[0m   \n",
      "    14.  17.4     316    1841 toegankelijk             14.  10.8     156    5844 laatste             \n",
      "    15.  17.4     328    3611 e-mail                   15.  10.7     280   28101 nu                  \n",
      "    16.  17.2     310    2263 gezet                    16.  10.7     134    2816 jullie              \n",
      "    17.  17.1     316    3297 maanden                  17.  10.5     380   49154 nog                 \n",
      "    18.  16.8     305    3161 inloggen                 18.  10.2     159    8664 \u001b[34mvragenlijst\u001b[0m\n",
      "    19.  16.6     290    2370 Over                     19.  10.0     113    1927 geleden             \n",
      "    20.  16.4     320    7786 \u001b[34mstuur\u001b[0m                    20.   9.9     105    1085 archief             \n",
      "    21.  16.3     355   13781 contact                  21.   9.9     104     995 effectiviteit       \n",
      "    22.  16.0     313    8501 Wil                      22.   9.7     144    7786 \u001b[34mstuur\u001b[0m      \n",
      "    23.  16.0     424   26874 Beste                    23.   9.7     120    4021 lijst               \n",
      "    24.  15.8     314    9722 komen                    24.   9.4      92     686 afgerond            \n",
      "    25.  15.4     258    3026 \u001b[34mactief\u001b[0m                   25.   9.3      99    1995 veranderingen       \n",
      "    26.  15.2     515   48191 meer                     26.   9.2      92    1021 bedankt             \n",
      "    27.  14.9     352   20652 wordt                    27.   9.2     106    3343 Zoals               \n",
      "    28.  14.6     293   12099 groeten                  28.   9.0     115    5088 onderzoek           \n",
      "    29.  14.2     212    1553 momenteel                29.   8.9     102    3362 MAIL                \n",
      "    30.  13.6     243    8887 vriendelijke             30.   8.9     112    4950 gegevens            \n",
      "    31.  13.4     834  126018 \u001b[34mniet\u001b[0m                     31.   8.9     115    5501 vast                \n",
      "    32.  13.2     229    8498 lezen                    32.   8.9      83     708 alweer              \n",
      "    33.  12.9     841  131815 NUM                      33.   8.8      92    2221 \u001b[34mvullen\u001b[0m     \n",
      "    34.  12.9    1370  251950 het                      34.   8.7      77     306 verwerkt            \n",
      "    35.  12.8     245   12576 Met                      35.   8.6      78     540 \u001b[34mverzoek\u001b[0m    \n",
      "    36.  12.8     360   33261 naar                     36.   8.6     129    8770 programma           \n",
      "    37.  12.5     210    8257 ‘                        37.   8.6      80    1006 geplaatst           \n",
      "    38.  12.2     213   10048 ’                        38.   8.6      75     305 aangekondigd        \n",
      "    39.  11.6     520   72261 dan                      39.   8.4      87    2370 Over                \n",
      "    40.  11.1     860  150586 is                       40.   8.4     252   33261 naar                \n"
     ]
    }
   ],
   "source": [
    "print(\"counts:\",\"lastCounselorMailsDropout:\",sum([wordCount(text) for text in lastCounselorMailsDropout]),\\\n",
    "                \"tokens;\",len(removeEmptyMails(lastCounselorMailsDropout)),\"mails;\", \\\n",
    "                \"lastCounselorMailsFinisher:\",sum([wordCount(text) for text in lastCounselorMailsFinisher]),\\\n",
    "                \"tokens;\",len(removeEmptyMails(lastCounselorMailsFinisher)),\"mails\" )\n",
    "tscoreData1 = makeTscoreData(removeEmptyMails(lastCounselorMailsDropout))\n",
    "tscoreData2 = makeTscoreData(removeEmptyMails(lastCounselorMailsFinisher))\n",
    "tscoreData3 = makeTscoreData(removeEmptyMails(allMailsCounselors))\n",
    "compareTscoreData(tscoreData1,tscoreData3,tscoreData2,tscoreData3,NBROFSHOW,\n",
    "                  coloredWords=[\"invullen\",\"vragenlijst\",\"stuur\",\"vullen\",\"verzoek\",\"actief\",\"niet\"])"
   ]
  },
  {
   "cell_type": "markdown",
   "metadata": {},
   "source": [
    "The top finisher words provide the most clues for group identification. We observe calls to action (*invullen*, *vragenlijst*, *stuur*, *vullen* and *verzoek*) and expressions of completion (*afgerond* and *bedankt*). Among the top dropout words we find a reference to the clients status: *actief* (in combination with *niet*). *stuur* also appears here, in the instruction to the client on how to return to the programme."
   ]
  },
  {
   "cell_type": "code",
   "execution_count": 13,
   "metadata": {},
   "outputs": [
    {
     "name": "stdout",
     "output_type": "stream",
     "text": [
      "total: 76\n",
      "17 het e-mailbericht mijn naam en\n",
      "2 van daar mijn wat onpersoonlijke\n",
      "2 is inderdaad mijn laatste bericht\n",
      "1 bereiken via mijn persoonlijke emailadres\n",
      "1 Lees hiervoor mijn vorige bericht\n"
     ]
    }
   ],
   "source": [
    "collocations(lastCounselorMailsFinisher,\"mijn\",nbrOfTokensBefore=2,nbrOfTokensAfter=2,nbrOfCollocations=5)"
   ]
  },
  {
   "cell_type": "markdown",
   "metadata": {},
   "source": [
    "## Comparing the first four client mails: dropouts vs finishers"
   ]
  },
  {
   "cell_type": "code",
   "execution_count": 14,
   "metadata": {},
   "outputs": [
    {
     "name": "stdout",
     "output_type": "stream",
     "text": [
      "counts: firstFourClientMailsDropout: 426946 tokens; 433 mails; firstFourClientMailsFinisher: 550226 tokens; 354 mails\n",
      "     1.  33.4    8619   43970 NUM                       1.  28.7    9962   43970 NUM                 \n",
      "     2.  17.2    1238    5018 jaar                      2.  16.7    1459    5018 jaar                \n",
      "     3.  13.9    2843   16835 )                         3.  16.5    3722   16835 )                   \n",
      "     4.  13.3    5558   36764 mijn                      4.  12.7    6937   36764 mijn                \n",
      "     5.  13.1    1077    5144 werk                      5.  12.7    1227    4811 Mijn                \n",
      "     6.  12.6    1077    5286 drink                     6.  10.1    1176    5144 werk                \n",
      "     7.  12.2     529    1955 --                        7.   9.6     467    1593 dronk               \n",
      "     8.  11.5     959    4811 Mijn                      8.   9.5     538    1955 --                  \n",
      "     9.  10.0     204     477 hobby                     9.   9.3     847    3560 toen                \n",
      "    10.   9.5     459    2027 kinderen                 10.   9.0     399    1339 \u001b[34mjaren\u001b[0m      \n",
      "    11.   9.1    3298   22379 \u001b[34mben\u001b[0m                      11.   8.9     317     972 nadelen             \n",
      "    12.   9.0     320    1262 sinds                    12.   8.6     274     799 contacten           \n",
      "    13.   8.9     369    1564 vrienden                 13.   8.6    2667   13884 \u001b[34m(\u001b[0m          \n",
      "    14.   8.8     237     799 contacten                14.   8.5     430    1564 vrienden            \n",
      "    15.   8.5     493    2421 vragen                   15.   8.2     591    2421 vragen              \n",
      "    16.   8.1     388    1812 \u001b[34mgebruik\u001b[0m                  16.   7.7     299    1017 familie             \n",
      "    17.   8.1     211     739 \u001b[34mhoogte\u001b[0m                   17.   7.6    1103    5286 drink               \n",
      "    18.   8.1     264    1054 \u001b[34mrelatie\u001b[0m                  18.   7.6     691    3040 \u001b[34mvaak\u001b[0m       \n",
      "    19.   7.9     202     706 klachten                 19.   7.6   30178  182097 .                   \n",
      "    20.   7.9     247     972 nadelen                  20.   7.5     230     706 klachten            \n",
      "    21.   7.4     244    1017 familie                  21.   7.5     179     477 hobby               \n",
      "    22.   7.4     158     512 \u001b[34meet\u001b[0m                      22.   7.4     257     843 \u001b[34mvoordelen\u001b[0m  \n",
      "    23.   7.2     263    1159 \u001b[34mpartner\u001b[0m                  23.   7.4     183     506 \u001b[34mtop\u001b[0m        \n",
      "    24.   7.2    1751   11694 veel                     24.   7.2     411    1636 \u001b[34mwerd\u001b[0m       \n",
      "    25.   6.9     110     300 \u001b[34mVraag\u001b[0m                    25.   7.1     334    1262 sinds               \n",
      "    26.   6.8   23474  182097 .                        26.   6.8     333    1293 alcoholgebruik      \n",
      "    27.   6.7     320    1593 dronk                    27.   6.7     285    1055 \u001b[34mvader\u001b[0m      \n",
      "    28.   6.7     170     660 sociale                  28.   6.7     378    1533 last                \n",
      "    29.   6.6    5370   39550 \u001b[34mheb\u001b[0m                      29.   6.7     472    2027 kinderen            \n",
      "    30.   6.6      84     184 \u001b[34minteresses\u001b[0m               30.   6.6     561    2504 \u001b[34mIn\u001b[0m         \n",
      "    31.   6.5     604    3560 toen                     31.   6.6     279    1035 \u001b[34mregelmatig\u001b[0m \n",
      "    32.   6.5     269    1293 alcoholgebruik           32.   6.5     432    1838 \u001b[34mcontact\u001b[0m    \n",
      "    33.   6.5     162     632 \u001b[34mongeveer\u001b[0m                 33.   6.5     199     660 sociale             \n",
      "    34.   6.4     282    1389 geleden                  34.   6.4     343    1389 geleden             \n",
      "    35.   6.4     177     731 \u001b[34mouders\u001b[0m                   35.   6.3     106     252 \u001b[34mTop\u001b[0m        \n",
      "    36.   6.4      79     176 \u001b[34mvrijetijdsbesteding\u001b[0m      36.   6.1     870    4295 \u001b[34maltijd\u001b[0m     \n",
      "    37.   6.3     184     780 \u001b[34mbeantwoorden\u001b[0m             37.   6.1     630    2964 \u001b[34m's\u001b[0m         \n",
      "    38.   6.3     282    1403 \u001b[34mproblemen\u001b[0m                38.   6.1    2147   11694 veel                \n",
      "    39.   6.2     299    1533 last                     39.   6.0     122     338 \u001b[34mnaam\u001b[0m       \n",
      "    40.   6.1     474    2741 \u001b[34msoms\u001b[0m                     40.   6.0    1748    9368 \u001b[34m:\u001b[0m          \n"
     ]
    }
   ],
   "source": [
    "print(\"counts:\",\"firstFourClientMailsDropout:\",sum([wordCount(text) for text in firstFourClientMailsDropout]),\\\n",
    "                \"tokens;\",len(removeEmptyMails(firstFourClientMailsDropout)),\"mails;\", \\\n",
    "                \"firstFourClientMailsFinisher:\",sum([wordCount(text) for text in firstFourClientMailsFinisher]),\\\n",
    "                \"tokens;\",len(removeEmptyMails(firstFourClientMailsFinisher)),\"mails\" )\n",
    "tscoreData1 = makeTscoreData(removeEmptyMails(firstFourClientMailsDropout))\n",
    "tscoreData2 = makeTscoreData(removeEmptyMails(firstFourClientMailsFinisher))\n",
    "tscoreData3 = makeTscoreData(removeEmptyMails(allMailsClients))\n",
    "compareTscoreData(tscoreData1,tscoreData3,tscoreData2,tscoreData3,NBROFSHOW,\n",
    "                  coloredWords=[\"jaren\",\"(\",\"vaak\",\"voordelen\",\"top\",\"werd\",\"vader\",\"In\",\\\n",
    "                                \"regelmatig\",\"contact\",\"Top\",\"altijd\",\"'s\",\"naam\",\":\",\\\n",
    "                                \"ben\",\"gebruik\",\"hoogte\",\"relatie\",\"eet\",\"partner\",\"Vraag\",\"heb\",\"interesses\",\\\n",
    "                                \"ongeveer\",\"ouders\",\"vrijetijdsbesteding\",\"beantwoorden\",\"problemen\",\"soms\"])"
   ]
  },
  {
   "cell_type": "markdown",
   "metadata": {},
   "source": [
    "Most of the words (25 of 40) in the two top usage lists are the same, showing that the language usage in the early mails is different from that in the other mails. In particular this is true for some of the relation words that we found in the comparison between all dropout and finisher mails (*kinderen* and *vrienden*). Interestingly, the dropout list contains several first person singular verbs (*ben*, *gebruik*, *eet* and *heb*) not present in the finisher list with the exception of *drink*. The dropout list still contains more relative words (*relatie*, *partner* and *ouders*) than the finisher list."
   ]
  },
  {
   "cell_type": "markdown",
   "metadata": {},
   "source": [
    "A direct comparison between the two text collections reveals similar patterns: first person singular verb words (*heb*, *ben*, *drink* and *gebruik*) and relation words (*vriendin* and *zoontje*) among the top dropout words. A new topic is prominent among the finsher words: illnesses and physical problems (*kanker*, *pijn*, *chemo*, *arthritis*)."
   ]
  },
  {
   "cell_type": "code",
   "execution_count": 15,
   "metadata": {},
   "outputs": [
    {
     "name": "stdout",
     "output_type": "stream",
     "text": [
      "     1.   7.2    8619    9962 NUM                       1.   5.7      77      15 ‘                   \n",
      "     2.   6.8     438     340 ..                        2.   5.4    2446    1604 die                 \n",
      "     3.   6.4    5370    6121 heb                       3.   4.8     256     120 glas                \n",
      "     4.   6.0    3298    3668 ben                       4.   4.6      41       6 therapeut           \n",
      "     5.   5.5    2455    2708 PER                       5.   4.6     225     104 voelde              \n",
      "     6.   5.4     101      50 u                         6.   4.5    2324    1563 was                 \n",
      "     7.   5.3    1077    1103 drink                     7.   4.5     901     553 hij                 \n",
      "     8.   5.1     706     688 ...                       8.   4.4      51      11 kanker              \n",
      "     9.   4.8     388     349 gebruik                   9.   4.3      88      29 forum               \n",
      "    10.   4.5      48      17 HET                      10.   4.2   10583    7726 het                 \n",
      "    11.   4.2     232     197 vriendin                 11.   4.2    4740    3357 ook                 \n",
      "    12.   4.1      28       6 IS                       12.   4.1      48      11 ad                  \n",
      "    13.   4.1      23       3 refusal                  13.   4.0      21       1 m´n                 \n",
      "    14.   4.1      43      17 DE                       14.   3.9    2667    1845 (                   \n",
      "    15.   3.9      48      22 EN                       15.   3.8      38       8 bespreken           \n",
      "    16.   3.9     209     179 s                        16.   3.7     200     100 pijn                \n",
      "    17.   3.9     729     765 deze                     17.   3.7     124      54 Dank                \n",
      "    18.   3.8    1077    1176 werk                     18.   3.7      15       0 chemo               \n",
      "    19.   3.8      15       0 T                        19.   3.6      18       1 arthritis           \n",
      "    20.   3.8     529     538 --                       20.   3.6      47      13 afstand             \n",
      "    21.   3.8    1532    1725 nu                       21.   3.4    9252    6812 dat                 \n",
      "    22.   3.7      42      19 late                     22.   3.4      13       0 PS                  \n",
      "    23.   3.7     926    1005 dag                      23.   3.4     103      45 Of                  \n",
      "    24.   3.7      95      67 IK                       24.   3.4     657     415 -                   \n",
      "    25.   3.7     794     850 week                     25.   3.3      40      11 sportschool         \n",
      "    26.   3.7     204     179 hobby                    26.   3.3      50      16 troost              \n",
      "    27.   3.7      50      26 zoontje                  27.   3.3     134      64 gedachten           \n",
      "    28.   3.6     158     131 eet                      28.   3.3     438     265 kon                 \n",
      "    29.   3.6      64      39 >                        29.   3.2      12       0 haalde              \n",
      "    30.   3.6      25       7 VAN                      30.   3.2      12       0 CAD                 \n",
      "    31.   3.6      17       2 ER                       31.   3.2      55      19 =                   \n",
      "    32.   3.5      34      14 speel                    32.   3.2      37      10 zomaar              \n",
      "    33.   3.5      13       0 ´t                       33.   3.2     641     407 mezelf              \n",
      "    34.   3.5      20       4 VOOR                     34.   3.2     411     249 werd                \n",
      "    35.   3.5    1479    1679 geen                     35.   3.1      20       3 inslapen            \n",
      "    36.   3.5      36      16 hallo                    36.   3.1      20       3 gegroeid            \n",
      "    37.   3.5      24       7 MAAR                     37.   3.1     145      73 broer               \n",
      "    38.   3.4      16       2 MIJN                     38.   3.1     227     126 Toen                \n",
      "    39.   3.4      19       4 adres                    39.   3.1      27       6 speelde             \n",
      "    40.   3.4      12       0 Þs                       40.   3.1      11       0 wees                \n"
     ]
    }
   ],
   "source": [
    "compareTscoreData(tscoreData1,tscoreData2,tscoreData2,tscoreData1,NBROFSHOW)"
   ]
  },
  {
   "cell_type": "markdown",
   "metadata": {},
   "source": [
    "## Comparing the longest among the first four client mails: dropouts vs finishers"
   ]
  },
  {
   "cell_type": "code",
   "execution_count": 16,
   "metadata": {},
   "outputs": [
    {
     "name": "stdout",
     "output_type": "stream",
     "text": [
      "counts: firstFourClientMailsCutoffDropout: 125570 tokens; 78 mails; firstFourClientMailsCutoffFinisher: 227350 tokens; 114 mails\n",
      "     1.  15.1    2351   43970 NUM                       1.  15.4     760    5018 jaar                \n",
      "     2.  12.4     448    5018 jaar                      2.  14.2    3793   43970 NUM                 \n",
      "     3.   9.8     917   16835 )                         3.  12.2    1609   16835 )                   \n",
      "     4.   7.6     252    3560 toen                      4.   9.7     442    3560 toen                \n",
      "     5.   7.4    1653   36764 mijn                      5.   8.9    1236   13884 \u001b[34m(\u001b[0m          \n",
      "     6.   6.8     161    2027 \u001b[34mkinderen\u001b[0m                  6.   8.8     249    1636 werd                \n",
      "     7.   6.6     591   11694 veel                      7.   8.7     518    4811 Mijn                \n",
      "     8.   6.3      84     706 ’                         8.   8.3    1164   13272 \u001b[34mwas\u001b[0m        \n",
      "     9.   6.1     294    5144 werk                      9.   8.1     205    1339 jaren               \n",
      "    10.   5.9     275    4811 Mijn                     10.   7.9     225    1593 dronk               \n",
      "    11.   5.8      57     370 \u001b[34m“\u001b[0m                        11.   7.8    2847   36764 mijn                \n",
      "    12.   5.7      91     994 \u001b[34ms\u001b[0m                        12.   7.2   12839  182097 \u001b[34m.\u001b[0m          \n",
      "    13.   5.7      94    1054 relatie                  13.   7.1     270    2306 ging                \n",
      "    14.   5.6      51     300 \u001b[34mVraag\u001b[0m                    14.   7.0     285    2504 In                  \n",
      "    15.   5.5     119    1593 dronk                    15.   7.0     125     706 ’                   \n",
      "    16.   5.5     102    1262 \u001b[34msinds\u001b[0m                    16.   6.6     171    1262 \u001b[34msinds\u001b[0m      \n",
      "    17.   5.5     117    1564 vrienden                 17.   6.6     983   11694 veel                \n",
      "    18.   5.4     285    5286 \u001b[34mdrink\u001b[0m                    18.   6.5     246    2168 \u001b[34mkon\u001b[0m        \n",
      "    19.   5.2      58     512 \u001b[34meet\u001b[0m                      19.   6.5     484    5144 werk                \n",
      "    20.   5.1      49     362 \u001b[34m”\u001b[0m                        20.   6.4     193    1564 vrienden            \n",
      "    21.   5.1     180    3040 vaak                     21.   6.3     147    1054 relatie             \n",
      "    22.   5.1     166    2741 \u001b[34msoms\u001b[0m                     22.   6.2     312    3040 vaak                \n",
      "    23.   4.9      84    1055 \u001b[34mvader\u001b[0m                    23.   6.2     411    4295 altijd              \n",
      "    24.   4.7     108    1602 moeder                   24.   6.2     121     799 \u001b[34mcontacten\u001b[0m  \n",
      "    25.   4.7     156    2651 nooit                    25.   6.1     129     890 Toen                \n",
      "    26.   4.7     140    2306 ging                     26.   5.8     130     950 \u001b[34mkreeg\u001b[0m      \n",
      "    27.   4.7     149    2504 In                       27.   5.8      62     252 \u001b[34mdepressie\u001b[0m  \n",
      "    28.   4.6     964   22379 \u001b[34mben\u001b[0m                      28.   5.5      54     209 ‘                   \n",
      "    29.   4.6      59     651 \u001b[34mdagelijks\u001b[0m                29.   5.4     133    1055 \u001b[34mvader\u001b[0m      \n",
      "    30.   4.6      40     306 \u001b[34m…\u001b[0m                        30.   5.4     161    1389 \u001b[34mgeleden\u001b[0m    \n",
      "    31.   4.6      93    1339 jaren                    31.   5.2      99     706 klachten            \n",
      "    32.   4.5      49     477 \u001b[34mhobby\u001b[0m                    32.   5.2      82     527 \u001b[34mbroer\u001b[0m      \n",
      "    33.   4.5     225    4295 altijd                   33.   5.1      34      69 \u001b[34mad\u001b[0m         \n",
      "    34.   4.5     106    1636 werd                     34.   5.1     124    1017 \u001b[34mfamilie\u001b[0m    \n",
      "    35.   4.5     304    6161 heeft                    35.   5.0     290    3084 \u001b[34mper\u001b[0m        \n",
      "    36.   4.4      90    1312 \u001b[34mmaanden\u001b[0m                  36.   4.9     520    6161 heeft               \n",
      "    37.   4.4      56     632 \u001b[34mongeveer\u001b[0m                 37.   4.9     254    2651 nooit               \n",
      "    38.   4.4      55     614 \u001b[34mbaan\u001b[0m                     38.   4.9     187    1808 \u001b[34mORG\u001b[0m        \n",
      "    39.   4.2     104    1679 \u001b[34mweinig\u001b[0m                   39.   4.7      60     350 Sinds               \n",
      "    40.   4.0      65     890 Toen                     40.   4.7     168    1602 moeder              \n"
     ]
    }
   ],
   "source": [
    "print(\"counts:\",\"firstFourClientMailsCutoffDropout:\",sum([wordCount(text) for text in firstFourClientMailsCutoffDropout]),\\\n",
    "                \"tokens;\",len(removeEmptyMails(firstFourClientMailsCutoffDropout)),\"mails;\", \\\n",
    "                \"firstFourClientMailsCutoffFinisher:\",sum([wordCount(text) for text in firstFourClientMailsCutoffFinisher]),\\\n",
    "                \"tokens;\",len(removeEmptyMails(firstFourClientMailsCutoffFinisher)),\"mails\" )\n",
    "tscoreData1 = makeTscoreData(removeEmptyMails(firstFourClientMailsCutoffDropout))\n",
    "tscoreData2 = makeTscoreData(removeEmptyMails(firstFourClientMailsCutoffFinisher))\n",
    "tscoreData3 = makeTscoreData(removeEmptyMails(allMailsClients))\n",
    "compareTscoreData(tscoreData1,tscoreData3,tscoreData2,tscoreData3,NBROFSHOW,coloredWords=[\\\n",
    "                 \"(\",\"was\",\".\",\"kon\",\"contacten\",\"kreeg\",\"depressie\",\",\",\"geleden\",\"vader\",\"broer\",\"ad\",\"familie\",\"per\",\"ORG\",\"sinds\",\\\n",
    "                 \"kinderen\",\"“\",\"s\",\"Vraag\",\"drink\",\"eet\",\"”\",\"soms\",\"ben\",\"dagelijks\",\"…\",\"hobby\",\"maanden\",\"ongeveer\",\"baan\",\"weinig\"])"
   ]
  },
  {
   "cell_type": "markdown",
   "metadata": {},
   "source": [
    "When we examine only the longest (>= 1000 tokens) among the first four client mails, we see similar patterns: among the top dropout words several firts person singular verbs (*drink*, *eet* and *ben*) but person relation words (*kinderen* and *vader*) are now more present among the top finisher words (*contacten*, *vader*, *broer* and *familie*)."
   ]
  },
  {
   "cell_type": "markdown",
   "metadata": {},
   "source": [
    "## Comparing LIWC data\n",
    "\n",
    "We have compared word usage in the mail texts with the t-score. Next we want to compare the frequencies of LIWC categories in the mail texts. "
   ]
  },
  {
   "cell_type": "code",
   "execution_count": 17,
   "metadata": {},
   "outputs": [],
   "source": [
    "TOTALTOKENS = \"Number of matches\"\n",
    "NBROFNBRS = \"number count\"\n",
    "EMPTYLIWCDICT = { TOTALTOKENS:0, NBROFNBRS:0 }\n",
    "\n",
    "def isLiwcFeature(featureName):\n",
    "    return(re.search(r\"^[0-9]\",str(featureName)))\n",
    "\n",
    "def combineLiwcResults(mails):\n",
    "    if len(mails) == 0: return(EMPTYLIWCDICT)\n",
    "    else:\n",
    "        liwcResults = dict(EMPTYLIWCDICT)\n",
    "        for i in range(0,len(mails)):\n",
    "            liwcResults[TOTALTOKENS] += mails[i][TOTALTOKENS]\n",
    "            liwcResults[NBROFNBRS] += mails[i][NBROFNBRS]*mails[i][TOTALTOKENS]\n",
    "            for liwcField in mails[0].domain.variables:\n",
    "                if isLiwcFeature(liwcField):\n",
    "                    if not liwcField in liwcResults: \n",
    "                        liwcResults[liwcField] = mails[i][liwcField]*mails[i][TOTALTOKENS]\n",
    "                    else:\n",
    "                        liwcResults[liwcField] += mails[i][liwcField]*mails[i][TOTALTOKENS]\n",
    "        return(liwcResults)\n",
    "    \n",
    "def extractLiwcScoresFrom(liwcResultsIn,sender):\n",
    "    liwcResultsOut = {}\n",
    "    for clientId in liwcResultsIn:\n",
    "        mails = []\n",
    "        for mail in liwcResultsIn[clientId]:\n",
    "            if mail[FIELDNAMEFROM] == sender: mails.append(mail)\n",
    "        liwcResultsOut[clientId] = combineLiwcResults(mails)\n",
    "    return(liwcResultsOut)\n",
    "\n",
    "def combineLiwcScores(liwcResultsIn):\n",
    "    liwcResultsOut = dict(EMPTYLIWCDICT)\n",
    "    for clientId in liwcResultsIn:\n",
    "        liwcResultsOut[TOTALTOKENS] += liwcResultsIn[clientId][TOTALTOKENS]\n",
    "        liwcResultsOut[NBROFNBRS] += liwcResultsIn[clientId][NBROFNBRS]\n",
    "        for liwcField in liwcResultsIn[clientId].keys():\n",
    "            if str(liwcField) in liwcResultsOut:\n",
    "                liwcResultsOut[str(liwcField)] += liwcResultsIn[clientId][liwcField]\n",
    "            else:\n",
    "                liwcResultsOut[str(liwcField)] = liwcResultsIn[clientId][liwcField]\n",
    "    return(liwcResultsOut)\n",
    "\n",
    "def makeTscoreDataLiwc(liwcScores):\n",
    "    tScoreData = { NBROFTOKENS:int(liwcScores[TOTALTOKENS]), NBROFTYPES:int(len(liwcScores)-2), NBROFGROUPS:int(len(liwcScores)-2), WORDFREQS:{} }\n",
    "    for liwcField in liwcScores.keys():\n",
    "        if isLiwcFeature(liwcField):\n",
    "            tScoreData[WORDFREQS][liwcField] = int(liwcScores[liwcField])\n",
    "    return(tScoreData)"
   ]
  },
  {
   "cell_type": "markdown",
   "metadata": {},
   "source": [
    "## Comparing all LIWC data: dropouts vs finishers"
   ]
  },
  {
   "cell_type": "code",
   "execution_count": 18,
   "metadata": {},
   "outputs": [],
   "source": [
    "liwcScoresClientDropout = combineLiwcScores(extractLiwcScoresFrom({clientId:allLiwcResults[clientId] for clientId in allLiwcResults if dropout[clientId] == CODEDROPOUT},CLIENT))\n",
    "liwcScoresClientFinisher = combineLiwcScores(extractLiwcScoresFrom({clientId:allLiwcResults[clientId] for clientId in allLiwcResults if dropout[clientId] == CODEFINISHER},CLIENT))\n",
    "liwcTscoresClientDropout = makeTscoreDataLiwc(liwcScoresClientDropout)\n",
    "liwcTscoresClientFinisher = makeTscoreDataLiwc(liwcScoresClientFinisher)"
   ]
  },
  {
   "cell_type": "code",
   "execution_count": 19,
   "metadata": {},
   "outputs": [
    {
     "name": "stdout",
     "output_type": "stream",
     "text": [
      "counts: liwcTscoresClientDropout: 1390962 tokens; liwcTscoresClientFinisher: 3782650 tokens;\n",
      "     1.  15.7    4732    9557 \u001b[34m41 family\u001b[0m                 1.  12.3  298645  105138 13 adverb           \n",
      "     2.  13.0    3626    7456 \u001b[34m42 friend\u001b[0m                 2.  11.2   42027   13890 60 percept          \n",
      "     3.  11.5   53791  137882 \u001b[34m40 social\u001b[0m                 3.  10.6  161105   56271 10 article          \n",
      "     4.  10.1   13844   33918 32 negemo                 4.   8.1   61431   21201 31 posemo           \n",
      "     5.   9.7    6619   15525 85 risk                   5.   7.2   11504    3708 61 see              \n",
      "     6.   9.3   71451  186472 \u001b[34m4 i\u001b[0m                       6.   7.1  188874   67291 14 conj             \n",
      "     7.   9.2   13756   34014 81 affiliation            7.   7.1 1378878  501200 1 function          \n",
      "     8.   9.0   90981  238828 \u001b[34m3 ppron\u001b[0m                   8.   6.6  335494  120700 50 cogproc          \n",
      "     9.   8.6    7439   17914 72 health                 9.   6.5   16262    5410 63 feel             \n",
      "    10.   8.3   45987  119439 80 drives                10.   6.4  138023   49078 9 ipron             \n",
      "    11.   8.0    5077   12036 112 home                 11.   6.2   31698   10893 23 interrog         \n",
      "    12.   7.9    5377   12816 \u001b[34m43 female\u001b[0m                12.   5.5  103628   36864 56 differ           \n",
      "    13.   7.2    9036   22415 \u001b[34m44 male\u001b[0m                  13.   5.4   22114    7579 \u001b[34m6 you\u001b[0m      \n",
      "    14.   6.2   23895   61969 70 bio                   14.   5.3   28030    9689 84 reward           \n",
      "    15.   6.0    6801   16941 \u001b[34m7 shehe\u001b[0m                  15.   4.8   44194   15543 101 motion          \n",
      "    16.   5.5   15360   39607 74 ingest                16.   3.7  107140   38557 120 informal        \n",
      "    17.   5.2   16918   43865 111 leisure              17.   3.6   10031    3440 71 body             \n",
      "    18.   5.0    3703    9115 35 sad                   18.   3.6   84240   30250 125 filler          \n",
      "    19.   4.6    2316    5604 113 money                19.   3.5   71131   25498 51 insight          \n",
      "    20.   4.2   12199   31723 110 work                 20.   3.5   80237   28809 92 focusfuture      \n",
      "    21.   4.0   14141   36944 83 power                 21.   3.4   38627   13731 55 certain          \n",
      "    22.   4.0   63984  170825 12 auxverb               22.   3.3  129172   46671 90 focuspast        \n",
      "    23.   3.6    3280    8263 33 anx                   23.   2.6   16642    5887 122 netspeak        \n",
      "    24.   3.1   61961  166068 103 time                 24.   2.5    1813     594 114 relig           \n",
      "    25.   3.0  114850  309105 91 focuspresent          25.   2.4   57880   20880 54 tentat           \n",
      "    26.   2.8    2110    5340 34 anger                 26.   2.3  198180   72144 21 adj              \n",
      "    27.   2.7     272     603 121 swear                27.   1.9  305646  111669 11 prep             \n",
      "    28.   2.4    3280    8483 \u001b[34m8 they\u001b[0m                   28.   1.6   95221   34661 22 compare          \n",
      "    29.   2.0   19344   51721 15 negate                29.   1.5   14188    5089 24 number           \n",
      "    30.   1.8  161152  435882 2 pronoun                30.   1.5    8329    2968 62 hear             \n",
      "    31.   1.7    3075    8065 \u001b[34m5 we\u001b[0m                     31.   1.0   52548   19163 53 discrep          \n",
      "    32.   1.2   15470   41605 82 achieve               32.   0.9     226      74 124 nonflu          \n",
      "    33.   0.9  136582  370367 20 verb                  33.   0.2  127615   46881 102 space           \n",
      "    34.   0.5     498    1321 115 death                34.   0.0   95881   35247 30 affect           \n",
      "    35.   0.5    1624    4356 123 assent               35.  -0.1   61284   22552 25 quant            \n",
      "    36.   0.5     259     681 73 sexual                36.  -0.2   38969   14356 52 cause            \n",
      "    37.   0.3  120652  327746 100 relativ              37.  -0.3  327746  120652 100 relativ         \n"
     ]
    }
   ],
   "source": [
    "NBROFSHOWLIWC = 37\n",
    "print(\"counts:\",\"liwcTscoresClientDropout:\",liwcTscoresClientDropout[NBROFTOKENS],\\\n",
    "                \"tokens;\",\n",
    "                \"liwcTscoresClientFinisher:\",liwcTscoresClientFinisher[NBROFTOKENS],\\\n",
    "                \"tokens;\")\n",
    "compareTscoreData(liwcTscoresClientDropout,liwcTscoresClientFinisher,liwcTscoresClientFinisher,liwcTscoresClientDropout,NBROFSHOWLIWC,\\\n",
    "                 coloredWords=[\"41 family\",\"42 friend\",\"40 social\",\"4 i\",\"43 female\",\"44 male\",\"7 shehe\",\"8 they\",\"5 we\",\"6 you\",\"3 ppron\"])"
   ]
  },
  {
   "cell_type": "markdown",
   "metadata": {},
   "source": [
    "## Comparing LIWC data of the final counselor mails: dropouts vs finishers"
   ]
  },
  {
   "cell_type": "code",
   "execution_count": 20,
   "metadata": {},
   "outputs": [
    {
     "name": "stdout",
     "output_type": "stream",
     "text": [
      "counts: liwcTscoresClientDropout: 71008 tokens; liwcTscoresClientFinisher: 71384 tokens;\n",
      "     1.  20.9    7872 1772516 \u001b[34m40 social\u001b[0m                 1.  14.9    3989  893093 10 article          \n",
      "     2.  16.5    7523 1794538 100 relativ               2.  14.3    3398  750378 103 time            \n",
      "     3.  15.4    3686  809245 \u001b[34m102 space\u001b[0m                 3.  10.9    1224  246551 84 reward           \n",
      "     4.  13.2    1272  235707 \u001b[34m81 affiliation\u001b[0m            4.  10.9    1261  256146 4 i                 \n",
      "     5.  12.6    3267  750378 103 time                  5.   9.0    1712  392877 31 posemo           \n",
      "     6.  12.5    1285  246551 84 reward                 6.   7.8    6768 1794538 100 relativ         \n",
      "     7.  11.9     400   47909 \u001b[34m62 hear\u001b[0m                   7.   7.4    1736  418428 92 focusfuture      \n",
      "     8.  11.7     998  184952 \u001b[34m15 negate\u001b[0m                 8.   6.6    2150  540245 22 compare          \n",
      "     9.  10.4     389   54377 \u001b[34m42 friend\u001b[0m                 9.   5.7    1365  338472 120 informal        \n",
      "    10.   9.6    1944  447768 \u001b[34m56 differ\u001b[0m                10.   5.2   26276 7448222 1 function          \n",
      "    11.   7.8    1747  418428 92 focusfuture           11.   4.2    4478 1228573 13 adverb           \n",
      "    12.   7.3    7093 1906253 11 prep                  12.   4.2    1028  261589 125 filler          \n",
      "    13.   6.9    2156  540245 22 compare               13.   2.9    3082  855975 12 auxverb          \n",
      "    14.   6.2    3396  892704 80 drives                14.   2.3    6698 1906253 11 prep             \n",
      "    15.   4.4    4021 1101731 6 you                    15.   2.2    1016  276888 110 work            \n",
      "    16.   3.5    1052  276888 110 work                 16.   1.7    5297 1514546 3 ppron             \n",
      "    17.   3.4     906  236307 25 quant                 17.   1.6    6179 1772516 \u001b[34m40 social\u001b[0m  \n",
      "    18.   3.0    1160  311855 82 achieve               18.   1.3     842  235707 \u001b[34m81 affiliation\u001b[0m\n",
      "    19.   2.7    3187  893093 10 article               19.   1.2       2     185 121 swear           \n",
      "    20.   1.8     239   62356 5 we                     20.   1.1       1      48 124 nonflu          \n",
      "    21.   1.5    2986  855975 12 auxverb               21.   1.0    1096  311855 82 achieve          \n",
      "    22.   1.3    1384  392877 31 posemo                22.   0.9      21    5127 123 assent          \n",
      "    23.   0.7    5196 1514546 3 ppron                  23.   0.4    2209  641340 90 focuspast        \n",
      "    24.   0.5       0      48 124 nonflu               24.   0.1     952  278377 52 cause            \n",
      "    25.   0.2    1099  321922 83 power                 25.   0.0    3432 1004904 21 adj              \n",
      "    26.  -0.0    3410 1004904 21 adj                   26.  -0.0    1262  369925 53 discrep          \n",
      "    27.  -0.2       0     185 121 swear                27.  -0.2     169   50336 122 netspeak        \n",
      "    28.  -0.2   25259 7448222 1 function               28.  -0.3    3740 1101731 6 you               \n",
      "    29.  -0.3     861  256146 4 i                      29.  -0.4    1919  567267 30 affect           \n",
      "    30.  -1.3     102   33941 112 home                 30.  -0.5      35   11209 41 family           \n",
      "    31.  -1.9    1085  338472 120 informal             31.  -0.5    5920 1744572 91 focuspresent     \n",
      "    32.  -2.1      10    5127 123 assent               32.  -0.7       5    2100 73 sexual           \n",
      "    33.  -2.2    4033 1228573 13 adverb                33.  -1.2       7    3174 115 death           \n",
      "    34.  -2.8      90   34624 35 sad                   34.  -1.3     769  236307 25 quant            \n",
      "    35.  -2.9       4    3174 115 death                35.  -1.4     450  140705 55 certain          \n",
      "    36.  -3.1    1151  369925 53 discrep               36.  -1.5     145   47909 \u001b[34m62 hear\u001b[0m    \n",
      "    37.  -3.7     351  123962 72 health                37.  -2.2    2648  809245 \u001b[34m102 space\u001b[0m  \n",
      "    38.  -3.9    2001  641340 90 focuspast             38.  -2.4       2    1828 114 relig           \n",
      "    39.  -4.5      18   11209 41 family                39.  -2.7     176   62356 5 we                \n",
      "    40.  -4.6       1    2100 73 sexual                40.  -2.8     151   54377 \u001b[34m42 friend\u001b[0m  \n"
     ]
    }
   ],
   "source": [
    "def getLastLiwcScoresFrom(liwcResultsIn,sender):\n",
    "    liwcResultsOut = {}\n",
    "    for clientId in liwcResultsIn:\n",
    "        for i in range(0,len(liwcResultsIn)):\n",
    "            if liwcResultsIn[clientId][-1-i][FIELDNAMEFROM] == sender:\n",
    "                liwcResultsOut[clientId] = combineLiwcResults([liwcResultsIn[clientId][-1-i]])\n",
    "                break\n",
    "    return(liwcResultsOut)\n",
    "\n",
    "liwcScoresCounselorDropout = combineLiwcScores(\\\n",
    "                             getLastLiwcScoresFrom({clientId:allLiwcResults[clientId] for clientId in allLiwcResults if dropout[clientId] == CODEDROPOUT},COUNSELOR))\n",
    "liwcScoresCounselorFinisher = combineLiwcScores(\\\n",
    "                              getLastLiwcScoresFrom({clientId:allLiwcResults[clientId] for clientId in allLiwcResults if dropout[clientId] == CODEFINISHER},COUNSELOR))\n",
    "liwcScoresCounselor = combineLiwcScores(extractLiwcScoresFrom(allLiwcResults,COUNSELOR))\n",
    "liwcTscoresCounselorDropout = makeTscoreDataLiwc(liwcScoresCounselorDropout)\n",
    "liwcTscoresCounselorFinisher = makeTscoreDataLiwc(liwcScoresCounselorFinisher)\n",
    "liwcTscoresCounselor = makeTscoreDataLiwc(liwcScoresCounselor)\n",
    "\n",
    "NBROFSHOWLIWC = 37\n",
    "print(\"counts:\",\"liwcTscoresClientDropout:\",liwcTscoresCounselorDropout[NBROFTOKENS],\\\n",
    "                \"tokens;\",\n",
    "                \"liwcTscoresClientFinisher:\",liwcTscoresCounselorFinisher[NBROFTOKENS],\\\n",
    "                \"tokens;\")\n",
    "compareTscoreData(liwcTscoresCounselorDropout,liwcTscoresCounselor,liwcTscoresCounselorFinisher,liwcTscoresCounselor,NBROFSHOW,\\\n",
    "                  coloredWords=[\"40 social\",\"102 space\",\"81 affiliation\",\"62 hear\",\"15 negate\",\"56 differ\",\"42 friend\"])"
   ]
  },
  {
   "cell_type": "markdown",
   "metadata": {},
   "source": [
    "## Comparing LIWC data: first four mails of dropouts vs completers"
   ]
  },
  {
   "cell_type": "code",
   "execution_count": 21,
   "metadata": {},
   "outputs": [],
   "source": [
    "liwcScoresClientDropout4 = combineLiwcScores(extractLiwcScoresFrom({clientId:allLiwcResults[clientId][0:4] for clientId in allLiwcResults if dropout[clientId] == CODEDROPOUT},CLIENT))\n",
    "liwcScoresClientFinisher4 = combineLiwcScores(extractLiwcScoresFrom({clientId:allLiwcResults[clientId][0:4] for clientId in allLiwcResults if dropout[clientId] == CODEFINISHER},CLIENT))\n",
    "liwcTscoresClientDropout4 = makeTscoreDataLiwc(liwcScoresClientDropout4)\n",
    "liwcTscoresClientFinisher4 = makeTscoreDataLiwc(liwcScoresClientFinisher4)"
   ]
  },
  {
   "cell_type": "code",
   "execution_count": 22,
   "metadata": {},
   "outputs": [
    {
     "name": "stdout",
     "output_type": "stream",
     "text": [
      "counts: liwcTscoresClientDropout: \u001b[34m113400\u001b[0m tokens; liwcTscoresClientFinisher: \u001b[34m155536\u001b[0m tokens;\n",
      "     1.   3.6    9261   12083 \u001b[34m91 focuspresent\u001b[0m           1.   3.9    1067     643 44 male             \n",
      "     2.   2.6    5207    6808 12 auxverb                2.   3.8    6460    4378 10 article          \n",
      "     3.   2.5    2370    3035 125 filler                3.   2.7    5672    3915 \u001b[34m90 focuspast\u001b[0m\n",
      "     4.   2.5    2951    3808 120 informal              4.   2.4    5343    3698 102 space           \n",
      "     5.   2.3    1435    1814 74 ingest                 5.   2.2      50      21 73 sexual           \n",
      "     6.   2.0   13031   17463 2 pronoun                 6.   2.0   12432    8817 11 prep             \n",
      "     7.   2.0    2011    2602 \u001b[34m92 focusfuture\u001b[0m            7.   1.9      55      26 114 relig           \n",
      "     8.   1.9    6215    8254 4 i                       8.   1.6     701     466 41 family           \n",
      "     9.   1.7    1122    1435 52 cause                  9.   1.5    2567    1789 25 quant            \n",
      "    10.   1.6    2736    3599 30 affect                10.   1.3    3601    2536 22 compare          \n",
      "    11.   1.6   11040   14839 20 verb                  11.   1.1    6164    4394 40 social           \n",
      "    12.   1.5    7592   10184 3 ppron                  12.   0.9     974     678 72 health           \n",
      "    13.   1.5    1661    2172 31 posemo                13.   0.9    1633    1149 101 motion          \n",
      "    14.   1.5     496     623 85 risk                  14.   0.9       6       2 124 nonflu          \n",
      "    15.   1.3    5258    7040 103 time                 15.   0.9     328     221 5 we                \n",
      "    16.   1.3    2170    2869 70 bio                   16.   0.9    2868    2038 51 insight          \n",
      "    17.   1.2     538     690 24 number                17.   0.7   55104   39991 1 function          \n",
      "    18.   1.1    1120    1469 82 achieve               18.   0.7   13611    9831 100 relativ         \n",
      "    19.   1.1     473     608 112 home                 19.   0.5     633     447 122 netspeak        \n",
      "    20.   1.0     141     173 34 anger                 20.   0.5    1545    1106 83 power            \n",
      "    21.   1.0     447     577 42 friend                21.   0.4     154     106 123 assent          \n",
      "    22.   1.0     458     592 43 female                22.   0.4    1119     801 23 interrog         \n",
      "    23.   0.9    1068    1410 32 negemo                23.   0.3      26      17 121 swear           \n",
      "    24.   0.9     356     457 63 feel                  24.   0.3     420     299 61 see              \n",
      "    25.   0.9    1851    2472 54 tentat                25.   0.2     908     656 84 reward           \n",
      "    26.   0.8    1422    1893 53 discrep               26.   0.2      75      53 115 death           \n",
      "    27.   0.8     967    1280 60 percept               27.   0.1    1442    1046 110 work            \n",
      "    28.   0.8     220     280 62 hear                  28.   0.1     656     476 6 you               \n",
      "    29.   0.7     295     382 8 they                   29.   0.0    5082    3704 80 drives           \n",
      "    30.   0.7    1626    2179 111 leisure              30.   0.0     682     497 7 shehe             \n",
      "    31.   0.7    9487   12888 50 cogproc               31.  -0.0     421     307 35 sad              \n",
      "    32.   0.6     168     216 113 money                32.  -0.0     354     259 71 body             \n",
      "    33.   0.5    1052    1412 55 certain               33.  -0.1    7404    5413 14 conj             \n",
      "    34.   0.5    8223   11197 13 adverb                34.  -0.2    3760    2757 56 differ           \n",
      "    35.   0.5    1483    2000 15 negate                35.  -0.2    1716    1262 81 affiliation      \n",
      "    36.   0.5    5667    7711 21 adj                   36.  -0.3    5193    3807 9 ipron             \n",
      "    37.   0.4     238     316 33 anx                   37.  -0.4     316     238 33 anx              \n"
     ]
    }
   ],
   "source": [
    "NBROFSHOWLIWC = 37\n",
    "print(\"counts:\",\"liwcTscoresClientDropout:\",colored(liwcTscoresClientDropout4[NBROFTOKENS],HIGHLIGHTCOLOR),\\\n",
    "                \"tokens;\",\n",
    "                \"liwcTscoresClientFinisher:\",colored(liwcTscoresClientFinisher4[NBROFTOKENS],HIGHLIGHTCOLOR),\\\n",
    "                \"tokens;\")\n",
    "compareTscoreData(liwcTscoresClientDropout4,liwcTscoresClientFinisher4,liwcTscoresClientFinisher4,liwcTscoresClientDropout4,NBROFSHOWLIWC,\\\n",
    "                 coloredWords=[\"92 focusfuture\",\"91 focuspresent\",\"90 focuspast\"])"
   ]
  },
  {
   "cell_type": "code",
   "execution_count": 23,
   "metadata": {},
   "outputs": [
    {
     "name": "stdout",
     "output_type": "stream",
     "text": [
      "focuspast: 5.6 %\n",
      "focusfuture: 6.0 %\n",
      "focuspresent: 5.1 %\n"
     ]
    }
   ],
   "source": [
    "focusPastD = 3915/113400\n",
    "focusPastF = 5672/155536\n",
    "focusPresentD = 9261/113400\n",
    "focusPresentF = 12083/155536\n",
    "focusFutureD = 2011/113400\n",
    "focusFutureF = 2602/155536\n",
    "\n",
    "print(\"focuspast:\",round(100*(focusPastF-focusPastD)/focusPastD,1),\"%\")\n",
    "print(\"focusfuture:\",round(100*(focusFutureD-focusFutureF)/focusFutureF,1),\"%\")\n",
    "print(\"focuspresent:\",round(100*(focusPresentD-focusPresentF)/focusPresentF,1),\"%\")"
   ]
  },
  {
   "cell_type": "code",
   "execution_count": 24,
   "metadata": {},
   "outputs": [
    {
     "data": {
      "text/plain": [
       "354"
      ]
     },
     "execution_count": 24,
     "metadata": {},
     "output_type": "execute_result"
    }
   ],
   "source": [
    "len([x for x in dropout if dropout[x] == \"2\"])"
   ]
  },
  {
   "cell_type": "code",
   "execution_count": 25,
   "metadata": {},
   "outputs": [
    {
     "name": "stdout",
     "output_type": "stream",
     "text": [
      "{'je': 1, 'berichten': 1, 'toegankelijk': 1, 'contact': 1, 'team': 1, 'bel': 1, 'e-mail': 1, 'mail': 1}\n"
     ]
    }
   ],
   "source": [
    "SEP = \"@\"\n",
    "\n",
    "tokenCounts = {}\n",
    "searchKey = \"social\"\n",
    "\n",
    "for token in {clientId:allLiwcResults[clientId] for clientId in allLiwcResults if dropout[clientId] == CODEDROPOUT}[\"AdB0001\"][-1].metas[2].split():\n",
    "    keys = token.split(SEP)\n",
    "    for key in keys[1:]:\n",
    "        if key == searchKey:\n",
    "            if key[0] in tokenCounts: tokenCounts[keys[0]] += 1\n",
    "            else: tokenCounts[keys[0]] = 1\n",
    "print(tokenCounts)"
   ]
  },
  {
   "cell_type": "markdown",
   "metadata": {},
   "source": [
    "## Counselor analysis"
   ]
  },
  {
   "cell_type": "code",
   "execution_count": 26,
   "metadata": {},
   "outputs": [],
   "source": [
    "FIELDCOUNSELOR = 2\n",
    "\n",
    "resultsPerCounselor = {}\n",
    "for clientId in dropout:\n",
    "    counselorId = allMails[clientId][0].metas[FIELDCOUNSELOR]\n",
    "    if not counselorId in resultsPerCounselor: \n",
    "        resultsPerCounselor[counselorId] = {}\n",
    "    if not dropout[clientId] in resultsPerCounselor[counselorId]:\n",
    "        resultsPerCounselor[counselorId][dropout[clientId]] = 0\n",
    "    resultsPerCounselor[counselorId][dropout[clientId]] += 1"
   ]
  },
  {
   "cell_type": "code",
   "execution_count": 27,
   "metadata": {},
   "outputs": [],
   "source": [
    "plotData = []\n",
    "for counselorId in sorted(resultsPerCounselor.keys()):\n",
    "    if CODEDROPOUT in resultsPerCounselor[counselorId] or \\\n",
    "       CODEFINISHER in resultsPerCounselor[counselorId]:\n",
    "        if not CODEDROPOUT in resultsPerCounselor[counselorId]:\n",
    "            resultsPerCounselor[counselorId][CODEDROPOUT] = 0\n",
    "        if not CODEFINISHER in resultsPerCounselor[counselorId]:\n",
    "            resultsPerCounselor[counselorId][CODEFINISHER] = 0\n",
    "        plotData.append((counselorId,\\\n",
    "                         resultsPerCounselor[counselorId][CODEFINISHER],\\\n",
    "                         resultsPerCounselor[counselorId][CODEDROPOUT]))"
   ]
  },
  {
   "cell_type": "code",
   "execution_count": 28,
   "metadata": {},
   "outputs": [
    {
     "data": {
      "image/png": "[encoded data removed]",
      "text/plain": [
       "<Figure size 864x576 with 1 Axes>"
      ]
     },
     "metadata": {
      "needs_background": "light"
     },
     "output_type": "display_data"
    }
   ],
   "source": [
    "import matplotlib.pyplot as plt\n",
    "\n",
    "plotData = sorted(plotData,key=lambda x: x[1]+((100-x[2])/100),reverse=True)\n",
    "fig,ax = plt.subplots(figsize=(12,8))\n",
    "plt.bar([x[0] for x in plotData],[x[1] for x in plotData],label=\"number of completers\")\n",
    "plt.bar([x[0] for x in plotData],[x[2] for x in plotData],bottom=[x[1] for x in plotData],label=\"number of dropouts\")\n",
    "for i in range(0,len(plotData)):\n",
    "    ax.text(i-0.5,plotData[i][1]+plotData[i][2]+0.5,int(100*plotData[i][1]/(plotData[i][1]+plotData[i][2])))\n",
    "plt.title(\"Success rates (%) of counselors in AdB data, average:43%±27%\")\n",
    "plt.legend()\n",
    "dummy = plt.show()"
   ]
  },
  {
   "cell_type": "code",
   "execution_count": 29,
   "metadata": {},
   "outputs": [
    {
     "data": {
      "text/plain": [
       "(43.0, 27.0)"
      ]
     },
     "execution_count": 29,
     "metadata": {},
     "output_type": "execute_result"
    }
   ],
   "source": [
    "import numpy as np\n",
    "\n",
    "round(100*np.average([x[1]/(x[1]+x[2]) for x in plotData])),round(100*np.std([x[1]/(x[1]+x[2]) for x in plotData]))"
   ]
  },
  {
   "cell_type": "code",
   "execution_count": 30,
   "metadata": {},
   "outputs": [
    {
     "data": {
      "text/plain": [
       "(38.0, 19.0)"
      ]
     },
     "execution_count": 30,
     "metadata": {},
     "output_type": "execute_result"
    }
   ],
   "source": [
    "round(100*np.average([x[1]/(x[1]+x[2]) for x in plotData if x[1]+x[2] > 1])),round(100*np.std([x[1]/(x[1]+x[2]) for x in plotData if x[1]+x[2] > 1]))"
   ]
  },
  {
   "cell_type": "markdown",
   "metadata": {},
   "source": [
    "## Sanity check: male vs female words"
   ]
  },
  {
   "cell_type": "code",
   "execution_count": null,
   "metadata": {},
   "outputs": [],
   "source": [
    "import numpy as np\n",
    "import os\n",
    "import pandas as pd\n",
    "import re\n",
    "import sys\n",
    "import xml.etree.ElementTree as ET\n",
    "sys.path.append('/home/erikt/projects/e-mental-health/data-processing')\n",
    "import tactus2table\n",
    "\n",
    "DIRECTORY = \"/home/erikt/projects/e-mental-health/usb/tmp/20190917/\"\n",
    "FILENAMEPREFIX = \"^AdB\"\n",
    "TITLE = \"0-title\"\n",
    "FIELDNAMEINTAKE = \"Intake\"\n",
    "FIELDNAMEID = \"0-id\"\n",
    "FIELDNAMEGENDER = \"geslacht\"\n",
    "GZEXTENSION = \".gz\"\n",
    "XMLEXTENSION = \".xml\"\n",
    "MALE = \"man\"\n",
    "FEMALE = \"vrouw\"\n",
    "INTAKE = \"Intake\"\n",
    "\n",
    "def shortenFileName(fileName):\n",
    "    return(re.sub(XMLEXTENSION,\"\",re.sub(GZEXTENSION,\"\",fileName)))"
   ]
  },
  {
   "cell_type": "code",
   "execution_count": null,
   "metadata": {},
   "outputs": [],
   "source": [
    "genders = {}\n",
    "for inFileName in os.listdir(DIRECTORY):\n",
    "    if re.search(FILENAMEPREFIX,inFileName):\n",
    "        root = tactus2table.readRootFromFile(DIRECTORY+\"/\"+inFileName)\n",
    "        questionnaires = tactus2table.getQuestionnaires(root,inFileName)\n",
    "        for questionnaire in questionnaires: \n",
    "            if questionnaire[TITLE] == INTAKE:\n",
    "                for fieldName in questionnaire:\n",
    "                    if re.search(FIELDNAMEGENDER,fieldName):\n",
    "                        genders[shortenFileName(questionnaire[FIELDNAMEID])] = questionnaire[fieldName].lower()\n",
    "                        break\n",
    "                break"
   ]
  },
  {
   "cell_type": "code",
   "execution_count": null,
   "metadata": {},
   "outputs": [],
   "source": [
    "genderKeys = list(np.unique(np.array([genders[key] for key in genders])))\n",
    "genderMailTexts = {}\n",
    "for key in genderKeys: genderMailTexts[key] = {}\n",
    "for result in range(0,len(mailTexts)):\n",
    "    for fileId in mailTexts[result].keys():\n",
    "        genderMailTexts[genders[fileId]][fileId] = mailTexts[result][fileId]\n",
    "[(key,len(genderMailTexts[key])) for key in genderKeys]  "
   ]
  },
  {
   "cell_type": "code",
   "execution_count": null,
   "metadata": {},
   "outputs": [],
   "source": [
    "tscoreData1 = makeTscoreData(uniqueTextArray(genderMailTexts[MALE]))\n",
    "tscoreData2 = makeTscoreData(uniqueTextArray(genderMailTexts[FEMALE]))\n",
    "computeTscores(tscoreData1,tscoreData2)"
   ]
  },
  {
   "cell_type": "markdown",
   "metadata": {},
   "source": [
    "## Get treatment years"
   ]
  },
  {
   "cell_type": "code",
   "execution_count": null,
   "metadata": {},
   "outputs": [],
   "source": [
    "FIELDNAMEDATE = \"date\"\n",
    "\n",
    "endYears = []\n",
    "startYears = []\n",
    "treatmentYearList = {}\n",
    "for clientId in allMails:\n",
    "    startYear = str(allMails[clientId][0][FIELDNAMEDATE])[0:4]\n",
    "    endYear = str(allMails[clientId][-1][FIELDNAMEDATE])[0:4]\n",
    "    startYears.append(int(startYear))\n",
    "    endYears.append(int(endYear))\n",
    "    treatmentYears = startYear+\"-\"+endYear\n",
    "    if treatmentYears in treatmentYearList: treatmentYearList[treatmentYears] += 1\n",
    "    else: treatmentYearList[treatmentYears] = 1\n",
    "\n",
    "years = {}\n",
    "startYearsTotals = {}\n",
    "endYearsTotals = {}\n",
    "for i in range(0,len(startYears)):\n",
    "    if startYears[i] in startYearsTotals: startYearsTotals[startYears[i]] += 1\n",
    "    else: startYearsTotals[startYears[i]] = 1\n",
    "    if endYears[i] in endYearsTotals: endYearsTotals[endYears[i]] += 1\n",
    "    else: endYearsTotals[endYears[i]] = 1\n",
    "    for year in range(startYears[i],endYears[i]+1):\n",
    "        if year in years: years[year] += 1\n",
    "        else: years[year] = 1\n",
    "for year in sorted(years.keys()):\n",
    "    print(years[year],year,startYearsTotals[year],endYearsTotals[year])\n",
    "    \n",
    "sum(years.values()),sum(startYearsTotals.values()),sum(endYearsTotals.values())"
   ]
  },
  {
   "cell_type": "markdown",
   "metadata": {},
   "source": [
    "## Count mails of dropouts and completers "
   ]
  },
  {
   "cell_type": "code",
   "execution_count": null,
   "metadata": {},
   "outputs": [],
   "source": [
    "import numpy as np\n",
    "import math\n",
    "\n",
    "CODECOMPLETER = \"2\"\n",
    "\n",
    "def std(data,avg):\n",
    "    total = 0\n",
    "    for i in range(0,len(data)): total += (data[i]-avg)**2\n",
    "    return(math.sqrt(total/len(data)))\n",
    "\n",
    "nbrOfClientMailsDropouts = []\n",
    "nbrOfClientMailsCompleters = []\n",
    "for clientId in allMails:\n",
    "    clientMailCounter = 0\n",
    "    for i in range(0,len(allMails[clientId])):\n",
    "        if allMails[clientId][i][FIELDNAMEFROM] == CLIENT: clientMailCounter += 1\n",
    "    if dropout[clientId] == CODEDROPOUT: nbrOfClientMailsDropouts.append(clientMailCounter)\n",
    "    if dropout[clientId] == CODECOMPLETER: nbrOfClientMailsCompleters.append(clientMailCounter)\n",
    "        \n",
    "print(\"dropouts: \",\"average:\",round(np.mean(nbrOfClientMailsDropouts),1),\"+-\",round(np.std(nbrOfClientMailsDropouts),1),\\\n",
    "                   \"  median:\",round(np.median(nbrOfClientMailsDropouts),1),\"+-\",round(std(nbrOfClientMailsDropouts,np.median(nbrOfClientMailsDropouts)),1))\n",
    "print(\"finishers:\",\"average:\",round(np.mean(nbrOfClientMailsCompleters),1),\"+-\",round(np.std(nbrOfClientMailsCompleters),1),\\\n",
    "                   \"median:\",round(np.median(nbrOfClientMailsCompleters),1),\"+-\",round(std(nbrOfClientMailsCompleters,np.median(nbrOfClientMailsCompleters)),1))"
   ]
  },
  {
   "cell_type": "code",
   "execution_count": null,
   "metadata": {},
   "outputs": [],
   "source": [
    "for d in nbrOfClientMailsDropouts: print(d,end=\" \")"
   ]
  },
  {
   "cell_type": "code",
   "execution_count": null,
   "metadata": {},
   "outputs": [],
   "source": [
    "for f in nbrOfClientMailsFinishers: print(f,end=\" \")"
   ]
  },
  {
   "cell_type": "code",
   "execution_count": null,
   "metadata": {},
   "outputs": [],
   "source": [
    "len(nbrOfClientMailsDropouts)"
   ]
  },
  {
   "cell_type": "code",
   "execution_count": null,
   "metadata": {},
   "outputs": [],
   "source": []
  }
 ],
 "metadata": {
  "kernelspec": {
   "display_name": "python-orange",
   "language": "python",
   "name": "python-orange"
  },
  "language_info": {
   "codemirror_mode": {
    "name": "ipython",
    "version": 3
   },
   "file_extension": ".py",
   "mimetype": "text/x-python",
   "name": "python",
   "nbconvert_exporter": "python",
   "pygments_lexer": "ipython3",
   "version": "3.7.3"
  }
 },
 "nbformat": 4,
 "nbformat_minor": 4
}
