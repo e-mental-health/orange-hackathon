{
 "cells": [
  {
   "cell_type": "markdown",
   "metadata": {},
   "source": [
    "# LIWC pipeline"
   ]
  },
  {
   "cell_type": "markdown",
   "metadata": {},
   "source": [
    "This notebook contains a pipeline for analyzing Tactus email therapies with LIWC. The goal is to process thousands of therapies with a single program. The alternative Orange3 requires seperately loading and processing each therapy file and this involves too much work  "
   ]
  },
  {
   "cell_type": "markdown",
   "metadata": {},
   "source": [
    "The first code block specifies the require libraries. This includes some general Python libraries and some specific libraries developed in our research project. They are stored in the folder orangehackathon/libs"
   ]
  },
  {
   "cell_type": "code",
   "execution_count": null,
   "metadata": {},
   "outputs": [],
   "source": [
    "import csv\n",
    "import re\n",
    "import sys\n",
    "import time\n",
    "\n",
    "sys.path.append(\"../libs/\")\n",
    "import tactusloaderLIB\n",
    "import OWEmailSorterLIB\n",
    "import markduplicatesLIB\n",
    "import removemarkedtextLIB\n",
    "import LIWCLIB"
   ]
  },
  {
   "cell_type": "markdown",
   "metadata": {},
   "source": [
    "The next code block specifies the location of the therapy files"
   ]
  },
  {
   "cell_type": "code",
   "execution_count": null,
   "metadata": {},
   "outputs": [],
   "source": [
    "DIRECTORY = \"/home/erikt/projects/e-mental-health/usb/releases/20191106-auke\""
   ]
  },
  {
   "cell_type": "markdown",
   "metadata": {},
   "source": [
    "One Python function was developed for storing the results of the data analysis. In Orange3 the module SaveData can be used for this task."
   ]
  },
  {
   "cell_type": "code",
   "execution_count": null,
   "metadata": {},
   "outputs": [],
   "source": [
    "DEFAULTOUTFILE=\"out.csv\"\n",
    "FIELDNAMEDATE = \"date\"\n",
    "FIELDNAMEFROM = \"from\"\n",
    "FIELDNAMEFILE = \"file\"\n",
    "FIELDNAMENBROFMAILS = \"nbr of mails\"\n",
    "CLIENT = \"CLIENT\"\n",
    "COUNSELOR = \"COUNSELOR\"\n",
    "MAXROWCOUNTER = 0\n",
    "FROMTARGET = CLIENT\n",
    "STUDENTFEATURENAMES = [FIELDNAMEFILE,FIELDNAMEFROM,FIELDNAMENBROFMAILS,\"4 i\",\"7 shehe\",\"8 they\",\"31 posemo\",\\\n",
    "                       \"32 negemo\",\"50 cogproc\",\"51 insight\",\"52 cause\",\"54 tentat\",\\\n",
    "                       \"90 focuspast\",\"91 focuspresent\",\"92 focusfuture\"]\n",
    "\n",
    "def addZero(string):\n",
    "    while len(string) < 2: string = \"0\"+string\n",
    "    return(string)\n",
    "\n",
    "def time2str(timeObj):\n",
    "    date = str(timeObj.tm_year)+\"-\"+addZero(str(timeObj.tm_mon))+\"-\"+addZero(str(timeObj.tm_mday))\n",
    "    time = addZero(str(timeObj.tm_hour))+\":\"+addZero(str(timeObj.tm_min))+\":\"+addZero(str(timeObj.tm_sec))\n",
    "    return(date+\" \"+time)\n",
    "\n",
    "def floatPrecision5(number):\n",
    "    if type(number) != type(0.5): return(number)\n",
    "    else: return(float(\"{0:.5f}\".format(number)))\n",
    "\n",
    "def saveResults(allLiwcResults,fileName=DEFAULTOUTFILE):\n",
    "    if len(allLiwcResults) > 0:\n",
    "        fieldNames = [x.name for x in allLiwcResults[0].domain.metas]\n",
    "        fieldNames += [x.name for x in allLiwcResults[0].domain.variables]\n",
    "        # fieldNames = STUDENTFEATURENAMES\n",
    "        outFile = open(fileName,\"w\")\n",
    "        with outFile as csvFile:\n",
    "            csvwriter = csv.DictWriter(csvFile,fieldnames=fieldNames)\n",
    "            csvwriter.writeheader()\n",
    "            for liwcResults in allLiwcResults:\n",
    "                if MAXROWCOUNTER > 0:\n",
    "                    rowCounter = 0\n",
    "                    row = {}\n",
    "                    for liwcResultsRow in liwcResults:\n",
    "                        if liwcResultsRow[FIELDNAMEFROM] == FROMTARGET:\n",
    "                            rowCounter += 1\n",
    "                            if rowCounter <= MAXROWCOUNTER:\n",
    "                                for fieldName in fieldNames:\n",
    "                                    if fieldName == FIELDNAMEDATE:\n",
    "                                        row[fieldName] = time2str(time.localtime(liwcResultsRow[fieldName].value))\n",
    "                                    elif not re.match(\"^\\d+\\s\",fieldName):\n",
    "                                        try: row[fieldName] = liwcResultsRow[fieldName].value\n",
    "                                        except: pass\n",
    "                                    elif fieldName in row: \n",
    "                                        row[fieldName] += floatPrecision5(liwcResultsRow[fieldName].value)\n",
    "                                    else: \n",
    "                                        row[fieldName] = floatPrecision5(liwcResultsRow[fieldName].value)\n",
    "                    if len(row) > 0:\n",
    "                        for fieldName in row:\n",
    "                            if re.match(\"^\\d+\\s\",fieldName) and rowCounter > 0: \n",
    "                                row[fieldName] = floatPrecision5(row[fieldName]/min(rowCounter,MAXROWCOUNTER))\n",
    "                        row[FIELDNAMENBROFMAILS] = rowCounter\n",
    "                        csvwriter.writerow(row)\n",
    "                else:\n",
    "                    row = {}\n",
    "                    for liwcResultsRow in liwcResults:\n",
    "                        for fieldName in fieldNames:\n",
    "                            if fieldName == FIELDNAMEDATE:\n",
    "                                row[fieldName] = time2str(time.localtime(liwcResultsRow[fieldName].value))\n",
    "                            elif not re.match(\"^\\d+\\s\",fieldName):\n",
    "                                try: row[fieldName] = liwcResultsRow[fieldName].value\n",
    "                                except: pass\n",
    "                            else: \n",
    "                                row[fieldName] = floatPrecision5(liwcResultsRow[fieldName].value)\n",
    "                        if len(row) > 0: csvwriter.writerow(row)\n",
    "        outFile.close()"
   ]
  },
  {
   "cell_type": "markdown",
   "metadata": {},
   "source": [
    "Finally there is a loop which loads each available therapy file, runs the Orange3 pipeline and saves the results. The Orange3 pipeline contains these parts:\n",
    "\n",
    "1. tactusloader: determine file name and read its contents\n",
    "2. sortMails: sort the mails from the file chronologically\n",
    "3. markduplicates: mark the parts of the mail text included from an earlier mail\n",
    "4. removemarkedtext: remove the marked text from the mail\n",
    "5. LIWC: perform a LIWC analysis on the remaining texts (includes tokenization)\n",
    "\n",
    "The output of LIWC (one table row per mail) are stored in the current folder (default file name: out.csv)"
   ]
  },
  {
   "cell_type": "code",
   "execution_count": null,
   "metadata": {},
   "outputs": [],
   "source": [
    "allLiwcResults = []\n",
    "for patientId in range(1,1000):\n",
    "    fileName = tactusloaderLIB.makeFileName(str(patientId))\n",
    "    mails = tactusloaderLIB.processFile(DIRECTORY,fileName+\".gz\")\n",
    "    sortedMails = OWEmailSorterLIB.filterEmails(mails,filter_asc=True)\n",
    "    markedMails = markduplicatesLIB.processCorpus(sortedMails)\n",
    "    strippedMails = removemarkedtextLIB.processCorpus(markedMails)\n",
    "    liwcResults = LIWCLIB.processCorpus(strippedMails)\n",
    "    allLiwcResults.append(liwcResults)\n",
    "saveResults(allLiwcResults)"
   ]
  },
  {
   "cell_type": "code",
   "execution_count": null,
   "metadata": {},
   "outputs": [],
   "source": []
  },
  {
   "cell_type": "code",
   "execution_count": null,
   "metadata": {},
   "outputs": [],
   "source": []
  }
 ],
 "metadata": {
  "kernelspec": {
   "display_name": "Python 3",
   "language": "python",
   "name": "python3"
  },
  "language_info": {
   "codemirror_mode": {
    "name": "ipython",
    "version": 3
   },
   "file_extension": ".py",
   "mimetype": "text/x-python",
   "name": "python",
   "nbconvert_exporter": "python",
   "pygments_lexer": "ipython3",
   "version": "3.6.9"
  }
 },
 "nbformat": 4,
 "nbformat_minor": 2
}
