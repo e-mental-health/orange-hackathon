{
 "cells": [
  {
   "cell_type": "markdown",
   "metadata": {},
   "source": [
    "# LIWC pipeline"
   ]
  },
  {
   "cell_type": "markdown",
   "metadata": {},
   "source": [
    "This notebook contains a pipeline for analyzing Tactus email therapies with LIWC. The goal is to process thousands of therapies with a single program. The alternative Orange3 requires seperately loading and processing each therapy file and this involves too much work  "
   ]
  },
  {
   "cell_type": "markdown",
   "metadata": {},
   "source": [
    "The first code block specifies the require libraries. This includes some general Python libraries and some specific libraries developed in our research project. They are stored in the folder orangehackathon/libs"
   ]
  },
  {
   "cell_type": "code",
   "execution_count": null,
   "metadata": {},
   "outputs": [],
   "source": [
    "import csv\n",
    "import re\n",
    "import sys\n",
    "import time\n",
    "\n",
    "sys.path.append(\"../libs/\")\n",
    "import tactusloaderLIB\n",
    "import OWEmailSorterLIB\n",
    "import markduplicatesLIB\n",
    "import removemarkedtextLIB\n",
    "import LIWCLIB"
   ]
  },
  {
   "cell_type": "markdown",
   "metadata": {},
   "source": [
    "The next code block specifies the location of the therapy files"
   ]
  },
  {
   "cell_type": "code",
   "execution_count": null,
   "metadata": {},
   "outputs": [],
   "source": [
    "DIRECTORY = \"/home/erikt/projects/e-mental-health/usb/releases/20191217/\""
   ]
  },
  {
   "cell_type": "markdown",
   "metadata": {},
   "source": [
    "One Python function was developed for storing the results of the data analysis. In Orange3 the module SaveData can be used for this task."
   ]
  },
  {
   "cell_type": "code",
   "execution_count": null,
   "metadata": {},
   "outputs": [],
   "source": [
    "DEFAULTOUTFILE=\"out.csv\"\n",
    "FIELDNAMEDATE = \"date\"\n",
    "FIELDNAMEFROM = \"from\"\n",
    "FIELDNAMETO = \"to\"\n",
    "FIELDNAMEFILE = \"file\"\n",
    "FIELDNAMEID = \"msg id\"\n",
    "FIELDNAMENBROFMAILS = \"nbr of mails\"\n",
    "FIELDNAMEMARKEDTEXT = \"markedtext\"\n",
    "CLIENT = \"CLIENT\"\n",
    "COUNSELOR = \"COUNSELOR\"\n",
    "FROMTARGET = CLIENT\n",
    "FIELDNAMENBROFMATCHES = \"Number of matches\"\n",
    "FIELDNAMENUMBERCOUNT = \"number count\"\n",
    "UNKNOWN = \"?\"\n",
    "\n",
    "# data selection settings\n",
    "PROCESSALLFEATURES = True\n",
    "AVERAGEROWS = True\n",
    "NBROFKEPTROWS = 0\n",
    "MINNBROFMATCHES = 0\n",
    "STUDENTFEATURENAMES = [FIELDNAMEFILE,FIELDNAMEFROM,FIELDNAMENBROFMAILS,\"4 i\",\"7 shehe\",\\\n",
    "                       \"8 they\",\"31 posemo\",\"32 negemo\",\"50 cogproc\",\"51 insight\",\\\n",
    "                       \"52 cause\",\"54 tentat\",\"90 focuspast\",\"91 focuspresent\",\\\n",
    "                       \"92 focusfuture\"]\n",
    "\n",
    "def addZero(string):\n",
    "    while len(string) < 2: string = \"0\"+string\n",
    "    return(string)\n",
    "\n",
    "def time2str(timeObj):\n",
    "    date = str(timeObj.tm_year)+\"-\"+\\\n",
    "           addZero(str(timeObj.tm_mon))+\"-\"+addZero(str(timeObj.tm_mday))\n",
    "    time = addZero(str(timeObj.tm_hour))+\":\"+addZero(str(timeObj.tm_min))+\":\"+\\\n",
    "           addZero(str(timeObj.tm_sec))\n",
    "    return(date+\" \"+time)\n",
    "\n",
    "def floatPrecision5(number):\n",
    "    if type(number) != type(0.5): return(number)\n",
    "    else: return(float(\"{0:.5f}\".format(number)))\n",
    "\n",
    "def saveRowAverage(liwcResults,csvwriter,fieldNames,dropouts):\n",
    "    rowCounter = 0\n",
    "    row = {}\n",
    "    for liwcResultsRow in liwcResults:\n",
    "        liwcResultsRow[FIELDNAMEFILE] = re.sub(\"-an.xml.gz\",\"\",\\\n",
    "                                               str(liwcResultsRow[FIELDNAMEFILE]))\n",
    "        if liwcResultsRow[FIELDNAMEFROM] == FROMTARGET:\n",
    "            if liwcResultsRow[FIELDNAMEFILE] in dropouts: \n",
    "                row[DROPOUT] = dropouts[liwcResultsRow[FIELDNAMEFILE]]\n",
    "            else: row[DROPOUT] = UNKNOWN\n",
    "            rowCounter += 1\n",
    "            nbrOfMatches = 0\n",
    "            nbrOfMatches = int(liwcResultsRow[FIELDNAMENBROFMATCHES])\n",
    "            if (NBROFKEPTROWS == 0 or rowCounter <= NBROFKEPTROWS) and \\\n",
    "                (MINNBROFMATCHES == 0 or nbrOfMatches >= MINNBROFMATCHES):\n",
    "                for fieldName in fieldNames:\n",
    "                    if fieldName == FIELDNAMEDATE:\n",
    "                        row[fieldName] = \\\n",
    "                            time2str(time.localtime(liwcResultsRow[fieldName].value))\n",
    "                    elif not re.match(\"^\\d+\\s\",fieldName) or \\\n",
    "                         fieldName in [FIELDNAMENBROFMATCHES,FIELDNAMENUMBERCOUNT]:\n",
    "                        try: row[fieldName] = liwcResultsRow[fieldName].value\n",
    "                        except: pass\n",
    "                    elif fieldName in row: \n",
    "                        row[fieldName] += floatPrecision5(liwcResultsRow[fieldName].value)\n",
    "                    else: \n",
    "                        row[fieldName] = floatPrecision5(liwcResultsRow[fieldName].value)\n",
    "    if len(row) > 0:\n",
    "        for fieldName in row:\n",
    "            if (re.match(\"^\\d+\\s\",fieldName) or \\\n",
    "                fieldName in [FIELDNAMENBROFMATCHES,FIELDNAMENUMBERCOUNT]) and \\\n",
    "               rowCounter > 0:\n",
    "                if NBROFKEPTROWS == 0:\n",
    "                    row[fieldName] = floatPrecision5(row[fieldName]/rowCounter)\n",
    "                else:\n",
    "                    row[fieldName] = floatPrecision5(row[fieldName]/min(rowCounter,\\\n",
    "                                                                        NBROFKEPTROWS))\n",
    "        row[FIELDNAMENBROFMAILS] = rowCounter\n",
    "        csvwriter.writerow(row)\n",
    "\n",
    "def saveRows(liwcResults,csvwriter,fieldNames,dropouts):\n",
    "    rowCounter = 0\n",
    "    row = {}\n",
    "    for liwcResultsRow in liwcResults:\n",
    "        liwcResultsRow[FIELDNAMEFILE] = re.sub(\"-an.xml.gz\",\"\",\\\n",
    "                                               str(liwcResultsRow[FIELDNAMEFILE]))\n",
    "        if liwcResultsRow[FIELDNAMEFROM] == FROMTARGET:\n",
    "            if liwcResultsRow[FIELDNAMEFILE] in dropouts: \n",
    "                row[DROPOUT] = dropouts[liwcResultsRow[FIELDNAMEFILE]]\n",
    "            else: row[DROPOUT] = UNKNOWN\n",
    "            rowCounter += 1\n",
    "            nbrOfMatches = liwcResultsRow[FIELDNAMENBROFMATCHES]\n",
    "            if (NBROFKEPTROWS == 0 or rowCounter <= NBROFKEPTROWS) and \\\n",
    "                (MINNBROFMATCHES == 0 or nbrOfMatches >= MINNBROFMATCHES):\n",
    "                for fieldName in fieldNames:\n",
    "                    if fieldName == FIELDNAMEDATE:\n",
    "                        row[fieldName] = \\\n",
    "                            time2str(time.localtime(liwcResultsRow[fieldName].value))\n",
    "                    elif not re.match(\"^\\d+\\s\",fieldName):\n",
    "                        try: row[fieldName] = liwcResultsRow[fieldName].value\n",
    "                        except: pass\n",
    "                    else: \n",
    "                        row[fieldName] = floatPrecision5(liwcResultsRow[fieldName].value)\n",
    "                if len(row) > 0: csvwriter.writerow(row)\n",
    "\n",
    "def saveResults(allLiwcResults,fileName=DEFAULTOUTFILE,dropouts={}):\n",
    "    if len(allLiwcResults) > 0:\n",
    "        fieldNames = STUDENTFEATURENAMES\n",
    "        if PROCESSALLFEATURES:\n",
    "            fieldNames = [FIELDNAMEFILE,FIELDNAMENBROFMAILS]\n",
    "            if not AVERAGEROWS:\n",
    "                fieldNames += [x.name for x in allLiwcResults[0].domain.variables]\n",
    "            else:\n",
    "                fieldNames += [x.name for x in allLiwcResults[0].domain.variables \\\n",
    "                                      if not x.name in [FIELDNAMEDATE,FIELDNAMEFROM,\\\n",
    "                                                        FIELDNAMETO,FIELDNAMEID]] \n",
    "            fieldNames += [x.name for x in allLiwcResults[0].domain.metas \\\n",
    "                                  if not x.name in [FIELDNAMEMARKEDTEXT,FIELDNAMEFILE]]\n",
    "            fieldNames += [DROPOUT]\n",
    "        outFile = open(fileName,\"w\")\n",
    "        with outFile as csvFile:\n",
    "            csvwriter = csv.DictWriter(csvFile,fieldnames=fieldNames)\n",
    "            csvwriter.writeheader()\n",
    "            for liwcResults in allLiwcResults:\n",
    "                if AVERAGEROWS:  saveRowAverage(liwcResults,csvwriter,fieldNames,dropouts)\n",
    "                else: saveRows(liwcResults,csvwriter,fieldNames,dropouts)\n",
    "        outFile.close()"
   ]
  },
  {
   "cell_type": "markdown",
   "metadata": {},
   "source": [
    "Finally there is a loop which loads each available therapy file, runs the Orange3 pipeline and saves the results. The Orange3 pipeline contains these parts:\n",
    "\n",
    "1. tactusloader: determine file name and read its contents\n",
    "2. sortMails: sort the mails from the file chronologically\n",
    "3. markduplicates: mark the parts of the mail text included from an earlier mail\n",
    "4. removemarkedtext: remove the marked text from the mail\n",
    "5. LIWC: perform a LIWC analysis on the remaining texts (includes tokenization)\n",
    "\n",
    "The output of LIWC (one table row per mail) are stored in the current folder (default file name: out.csv)"
   ]
  },
  {
   "cell_type": "code",
   "execution_count": null,
   "metadata": {},
   "outputs": [],
   "source": [
    "from pathlib import Path\n",
    "\n",
    "GZEXTENSION = \".gz\"\n",
    "\n",
    "allLiwcResults = []\n",
    "for patientId in list(range(1,1988)):\n",
    "    if patientId % 100 == 0: print(patientId,end=\" \")\n",
    "    fileName = tactusloaderLIB.makeFileName(str(patientId))\n",
    "    try:\n",
    "        if Path(DIRECTORY+fileName+GZEXTENSION).is_file():\n",
    "            mails = tactusloaderLIB.processFile(DIRECTORY,fileName+GZEXTENSION)\n",
    "            if len(mails[0]) > 0:\n",
    "                sortedMails = OWEmailSorterLIB.filterEmails(mails[0],filter_asc=True)\n",
    "                markedMails = markduplicatesLIB.processCorpus(sortedMails)\n",
    "                strippedMails = removemarkedtextLIB.processCorpus(markedMails)\n",
    "                liwcResults = LIWCLIB.processCorpus(strippedMails)\n",
    "                allLiwcResults.append(liwcResults)\n",
    "    except:\n",
    "        print(\"problem processing file\",fileName)\n",
    "        continue\n",
    "print(\"\")"
   ]
  },
  {
   "cell_type": "code",
   "execution_count": null,
   "metadata": {},
   "outputs": [],
   "source": [
    "import gzip\n",
    "\n",
    "DROPOUTFILE = \"/home/erikt/projects/e-mental-health/usb/releases/20200218/dropout.csv.gz\"\n",
    "CLIENTID = \"clientID\"\n",
    "DROPOUT = \"dropout\"\n",
    "UNKNOWN = \"?\"\n",
    "\n",
    "def readDropout(dropoutFile):\n",
    "    dropouts = {}\n",
    "    inFile = gzip.open(dropoutFile,\"rt\",encoding=\"utf-8\")\n",
    "    csvreader = csv.DictReader(inFile)\n",
    "    for row in csvreader:\n",
    "        if re.search(\"^[0-9]+\",row[DROPOUT]): dropouts[row[CLIENTID]] = row[DROPOUT]\n",
    "        else: dropouts[row[CLIENTID]] = UNKNOWN\n",
    "    inFile.close()\n",
    "    return(dropouts)\n",
    "\n",
    "dropouts = readDropout(DROPOUTFILE)"
   ]
  },
  {
   "cell_type": "code",
   "execution_count": null,
   "metadata": {},
   "outputs": [],
   "source": [
    "saveResults(allLiwcResults,dropouts=dropouts)"
   ]
  },
  {
   "cell_type": "code",
   "execution_count": null,
   "metadata": {},
   "outputs": [],
   "source": []
  }
 ],
 "metadata": {
  "kernelspec": {
   "display_name": "Python 3",
   "language": "python",
   "name": "python3"
  },
  "language_info": {
   "codemirror_mode": {
    "name": "ipython",
    "version": 3
   },
   "file_extension": ".py",
   "mimetype": "text/x-python",
   "name": "python",
   "nbconvert_exporter": "python",
   "pygments_lexer": "ipython3",
   "version": "3.6.7"
  }
 },
 "nbformat": 4,
 "nbformat_minor": 4
}
