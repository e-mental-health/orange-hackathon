{
 "cells": [
  {
   "cell_type": "code",
   "execution_count": null,
   "metadata": {},
   "outputs": [],
   "source": [
    "import csv\n",
    "import sys\n",
    "import time\n",
    "sys.path.append(\"../libs/\")\n",
    "import tactusloaderLIB\n",
    "import OWEmailSorterLIB\n",
    "import markduplicatesLIB\n",
    "import removemarkedtextLIB\n",
    "import LIWCLIB"
   ]
  },
  {
   "cell_type": "code",
   "execution_count": null,
   "metadata": {},
   "outputs": [],
   "source": [
    "DIRECTORY = \"/home/erikt/projects/e-mental-health/usb/tmp/20190917\""
   ]
  },
  {
   "cell_type": "code",
   "execution_count": null,
   "metadata": {},
   "outputs": [],
   "source": [
    "DEFAULTOUTFILE=\"out.csv\"\n",
    "FIELDNAMEDATE = \"date\"\n",
    "\n",
    "def addZero(string):\n",
    "    while len(string) < 2: string = \"0\"+string\n",
    "    return(string)\n",
    "\n",
    "def time2str(timeObj):\n",
    "    date = str(timeObj.tm_year)+\"-\"+addZero(str(timeObj.tm_mon))+\"-\"+addZero(str(timeObj.tm_mday))\n",
    "    time = addZero(str(timeObj.tm_hour))+\":\"+addZero(str(timeObj.tm_min))+\":\"+addZero(str(timeObj.tm_sec))\n",
    "    return(date+\" \"+time)\n",
    "\n",
    "def floatPrecision5(number):\n",
    "    if type(number) != type(0.5): return(number)\n",
    "    else: return(float(\"{0:.5f}\".format(number)))\n",
    "\n",
    "def saveResults(allLiwcResults,fileName=DEFAULTOUTFILE):\n",
    "    if len(allLiwcResults) > 0:\n",
    "        fieldNames = [x.name for x in allLiwcResults[0].domain.metas]\n",
    "        fieldNames += [x.name for x in allLiwcResults[0].domain.variables]\n",
    "        outFile = open(fileName,\"w\")\n",
    "        with outFile as csvFile:\n",
    "            csvwriter = csv.DictWriter(csvFile,fieldnames=fieldNames)\n",
    "            csvwriter.writeheader()\n",
    "            for liwcResults in allLiwcResults:\n",
    "                for liwcResultsRow in liwcResults:\n",
    "                    row = {}\n",
    "                    for fieldName in fieldNames:\n",
    "                        if fieldName != FIELDNAMEDATE: row[fieldName] = floatPrecision5(liwcResultsRow[fieldName].value)\n",
    "                        else: row[fieldName] = time2str(time.localtime(liwcResultsRow[fieldName].value))\n",
    "                    csvwriter.writerow(row)\n",
    "        outFile.close()"
   ]
  },
  {
   "cell_type": "code",
   "execution_count": null,
   "metadata": {},
   "outputs": [],
   "source": [
    "allLiwcResults = []\n",
    "for patientId in range(1,9):\n",
    "    fileName = tactusloaderLIB.makeFileName(str(patientId))\n",
    "    mails = tactusloaderLIB.processFile(DIRECTORY,fileName)\n",
    "    sortedMails = OWEmailSorterLIB.filterEmails(mails,filter_asc=True)\n",
    "    markedMails = markduplicatesLIB.processCorpus(sortedMails)\n",
    "    strippedMails = removemarkedtextLIB.processCorpus(markedMails)\n",
    "    liwcResults = LIWCLIB.processCorpus(strippedMails)\n",
    "    allLiwcResults.append(liwcResults)\n",
    "saveResults(allLiwcResults)"
   ]
  },
  {
   "cell_type": "code",
   "execution_count": null,
   "metadata": {},
   "outputs": [],
   "source": []
  }
 ],
 "metadata": {
  "kernelspec": {
   "display_name": "Python 3",
   "language": "python",
   "name": "python3"
  },
  "language_info": {
   "codemirror_mode": {
    "name": "ipython",
    "version": 3
   },
   "file_extension": ".py",
   "mimetype": "text/x-python",
   "name": "python",
   "nbconvert_exporter": "python",
   "pygments_lexer": "ipython3",
   "version": "3.6.9"
  }
 },
 "nbformat": 4,
 "nbformat_minor": 2
}
